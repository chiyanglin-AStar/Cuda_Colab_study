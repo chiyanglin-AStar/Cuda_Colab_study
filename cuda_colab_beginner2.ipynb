{
  "cells": [
    {
      "cell_type": "markdown",
      "metadata": {
        "id": "3Er195Vonzia"
      },
      "source": [
        "<a href=\"https://githubtocolab.com/chiyanglin-AStar/Cuda_Colab_study/blob/master/cuda_colab_beginner1.ipynb\" target=\"_parent\"><img src=\"https://colab.research.google.com/assets/colab-badge.svg\" alt=\"Open in Colab\"/></a>"
      ]
    },
    {
      "cell_type": "markdown",
      "metadata": {
        "id": "7jo3uJgJ2DhB"
      },
      "source": [
        "# Install Nvidia & other dependencies\n",
        "\n",
        "in this version , remove colab have built-in package install steps "
      ]
    },
    {
      "cell_type": "markdown",
      "metadata": {
        "id": "SZAHFNCj4St8"
      },
      "source": [
        "# Show our GPU"
      ]
    },
    {
      "cell_type": "code",
      "execution_count": 5,
      "metadata": {
        "colab": {
          "base_uri": "https://localhost:8080/"
        },
        "id": "gvlavcVD4K7W",
        "outputId": "0034f69e-5a7d-4537-b669-122e7bd3f149"
      },
      "outputs": [
        {
          "output_type": "stream",
          "name": "stdout",
          "text": [
            "Tue Sep 27 06:44:07 2022       \n",
            "+-----------------------------------------------------------------------------+\n",
            "| NVIDIA-SMI 460.32.03    Driver Version: 460.32.03    CUDA Version: 11.2     |\n",
            "|-------------------------------+----------------------+----------------------+\n",
            "| GPU  Name        Persistence-M| Bus-Id        Disp.A | Volatile Uncorr. ECC |\n",
            "| Fan  Temp  Perf  Pwr:Usage/Cap|         Memory-Usage | GPU-Util  Compute M. |\n",
            "|                               |                      |               MIG M. |\n",
            "|===============================+======================+======================|\n",
            "|   0  Tesla T4            Off  | 00000000:00:04.0 Off |                    0 |\n",
            "| N/A   36C    P8     9W /  70W |      0MiB / 15109MiB |      0%      Default |\n",
            "|                               |                      |                  N/A |\n",
            "+-------------------------------+----------------------+----------------------+\n",
            "                                                                               \n",
            "+-----------------------------------------------------------------------------+\n",
            "| Processes:                                                                  |\n",
            "|  GPU   GI   CI        PID   Type   Process name                  GPU Memory |\n",
            "|        ID   ID                                                   Usage      |\n",
            "|=============================================================================|\n",
            "|  No running processes found                                                 |\n",
            "+-----------------------------------------------------------------------------+\n"
          ]
        }
      ],
      "source": [
        "! nvidia-smi"
      ]
    },
    {
      "cell_type": "markdown",
      "metadata": {
        "id": "a_cjIVVP4egG"
      },
      "source": [
        "# C Compiler"
      ]
    },
    {
      "cell_type": "code",
      "execution_count": null,
      "metadata": {
        "colab": {
          "base_uri": "https://localhost:8080/"
        },
        "id": "Cv_ejpDm4glG",
        "outputId": "c99972c9-4667-45b3-84f0-55b3621aff36"
      },
      "outputs": [
        {
          "output_type": "stream",
          "name": "stdout",
          "text": [
            "Using built-in specs.\n",
            "COLLECT_GCC=gcc\n",
            "COLLECT_LTO_WRAPPER=/usr/lib/gcc/x86_64-linux-gnu/7/lto-wrapper\n",
            "OFFLOAD_TARGET_NAMES=nvptx-none\n",
            "OFFLOAD_TARGET_DEFAULT=1\n",
            "Target: x86_64-linux-gnu\n",
            "Configured with: ../src/configure -v --with-pkgversion='Ubuntu 7.5.0-3ubuntu1~18.04' --with-bugurl=file:///usr/share/doc/gcc-7/README.Bugs --enable-languages=c,ada,c++,go,brig,d,fortran,objc,obj-c++ --prefix=/usr --with-gcc-major-version-only --program-suffix=-7 --program-prefix=x86_64-linux-gnu- --enable-shared --enable-linker-build-id --libexecdir=/usr/lib --without-included-gettext --enable-threads=posix --libdir=/usr/lib --enable-nls --enable-bootstrap --enable-clocale=gnu --enable-libstdcxx-debug --enable-libstdcxx-time=yes --with-default-libstdcxx-abi=new --enable-gnu-unique-object --disable-vtable-verify --enable-libmpx --enable-plugin --enable-default-pie --with-system-zlib --with-target-system-zlib --enable-objc-gc=auto --enable-multiarch --disable-werror --with-arch-32=i686 --with-abi=m64 --with-multilib-list=m32,m64,mx32 --enable-multilib --with-tune=generic --enable-offload-targets=nvptx-none --without-cuda-driver --enable-checking=release --build=x86_64-linux-gnu --host=x86_64-linux-gnu --target=x86_64-linux-gnu\n",
            "Thread model: posix\n",
            "gcc version 7.5.0 (Ubuntu 7.5.0-3ubuntu1~18.04) \n"
          ]
        }
      ],
      "source": [
        "!gcc -v"
      ]
    },
    {
      "cell_type": "markdown",
      "metadata": {
        "id": "y3fQT5o--txn"
      },
      "source": [
        "# Install CUDA"
      ]
    },
    {
      "cell_type": "code",
      "execution_count": 6,
      "metadata": {
        "colab": {
          "base_uri": "https://localhost:8080/"
        },
        "id": "evxzc04GGqH3",
        "outputId": "cbfd1f73-0316-482e-b2a9-00dbec38932f"
      },
      "outputs": [
        {
          "output_type": "stream",
          "name": "stdout",
          "text": [
            "nvcc: NVIDIA (R) Cuda compiler driver\n",
            "Copyright (c) 2005-2020 NVIDIA Corporation\n",
            "Built on Mon_Oct_12_20:09:46_PDT_2020\n",
            "Cuda compilation tools, release 11.1, V11.1.105\n",
            "Build cuda_11.1.TC455_06.29190527_0\n"
          ]
        }
      ],
      "source": [
        "!nvcc --version"
      ]
    },
    {
      "cell_type": "markdown",
      "metadata": {
        "id": "TagN1KWwLPrI"
      },
      "source": [
        "# Upload your Repo"
      ]
    },
    {
      "cell_type": "code",
      "execution_count": null,
      "metadata": {
        "colab": {
          "base_uri": "https://localhost:8080/"
        },
        "id": "YnLx3pVtLTca",
        "outputId": "93bea512-66a9-4142-87e6-545145771d5d"
      },
      "outputs": [
        {
          "output_type": "stream",
          "name": "stdout",
          "text": [
            "Cloning into 'Cuda_Colab_study'...\n",
            "remote: Enumerating objects: 222, done.\u001b[K\n",
            "remote: Counting objects: 100% (222/222), done.\u001b[K\n",
            "remote: Compressing objects: 100% (185/185), done.\u001b[K\n",
            "remote: Total 222 (delta 91), reused 124 (delta 34), pack-reused 0\u001b[K\n",
            "Receiving objects: 100% (222/222), 2.60 MiB | 17.52 MiB/s, done.\n",
            "Resolving deltas: 100% (91/91), done.\n"
          ]
        }
      ],
      "source": [
        "!git clone https://github.com/chiyanglin-AStar/Cuda_Colab_study.git"
      ]
    },
    {
      "cell_type": "code",
      "execution_count": null,
      "metadata": {
        "colab": {
          "base_uri": "https://localhost:8080/"
        },
        "id": "ljBaItYiMHaK",
        "outputId": "7717bbd9-5b00-4842-b218-171710576ef8"
      },
      "outputs": [
        {
          "output_type": "stream",
          "name": "stdout",
          "text": [
            "/content/t1/Cuda_Colab_study/nvidia_samples/0_intro/simplePrintf\n"
          ]
        }
      ],
      "source": [
        "%cd ./Cuda_Colab_study/nvidia_samples/0_intro/simplePrintf/"
      ]
    },
    {
      "cell_type": "code",
      "source": [
        "!pip install git+https://github.com/andreinechaev/nvcc4jupyter.git"
      ],
      "metadata": {
        "colab": {
          "base_uri": "https://localhost:8080/"
        },
        "id": "6aJrNyoNJt4v",
        "outputId": "f276dc5a-ee88-46de-c5cc-ef346f40c6bd"
      },
      "execution_count": 7,
      "outputs": [
        {
          "output_type": "stream",
          "name": "stdout",
          "text": [
            "Looking in indexes: https://pypi.org/simple, https://us-python.pkg.dev/colab-wheels/public/simple/\n",
            "Collecting git+https://github.com/andreinechaev/nvcc4jupyter.git\n",
            "  Cloning https://github.com/andreinechaev/nvcc4jupyter.git to /tmp/pip-req-build-tgszhyaq\n",
            "  Running command git clone -q https://github.com/andreinechaev/nvcc4jupyter.git /tmp/pip-req-build-tgszhyaq\n",
            "Building wheels for collected packages: NVCCPlugin\n",
            "  Building wheel for NVCCPlugin (setup.py) ... \u001b[?25l\u001b[?25hdone\n",
            "  Created wheel for NVCCPlugin: filename=NVCCPlugin-0.0.2-py3-none-any.whl size=4306 sha256=90382e8f401ddf0b43a6920c94bd5fc0f9931cf96c81d9463d0be73ab726191f\n",
            "  Stored in directory: /tmp/pip-ephem-wheel-cache-sru0bhrk/wheels/ca/33/8d/3c86eb85e97d2b6169d95c6e8f2c297fdec60db6e84cb56f5e\n",
            "Successfully built NVCCPlugin\n",
            "Installing collected packages: NVCCPlugin\n",
            "Successfully installed NVCCPlugin-0.0.2\n"
          ]
        }
      ]
    },
    {
      "cell_type": "code",
      "source": [
        "%load_ext nvcc_plugin"
      ],
      "metadata": {
        "colab": {
          "base_uri": "https://localhost:8080/"
        },
        "id": "zPCLbxXtGbXt",
        "outputId": "ce195107-c5a3-4b1c-bce7-9a83408937a3"
      },
      "execution_count": 8,
      "outputs": [
        {
          "output_type": "stream",
          "name": "stdout",
          "text": [
            "created output directory at /content/src\n",
            "Out bin /content/result.out\n"
          ]
        }
      ]
    },
    {
      "cell_type": "code",
      "source": [
        "%%cu\n",
        "#include<iostream>\n",
        "void c_hello(){\n",
        "    printf(\"Hello World!\\n\");\n",
        "}\n",
        "\n",
        "int main() {\n",
        "    c_hello();\n",
        "    return 0;\n",
        "}"
      ],
      "metadata": {
        "colab": {
          "base_uri": "https://localhost:8080/"
        },
        "outputId": "3097e04e-a14a-4c7c-9474-2282b1156cdb",
        "id": "bX2TiALNRYyf"
      },
      "execution_count": 9,
      "outputs": [
        {
          "output_type": "stream",
          "name": "stdout",
          "text": [
            "Hello World!\n",
            "\n"
          ]
        }
      ]
    },
    {
      "cell_type": "code",
      "source": [
        "%%cu\n",
        "#include<iostream>\n",
        "#include<stdio.h>\n",
        "using namespace std;\n",
        "__global__ void cuda_hello(){\n",
        "    \n",
        "    printf(\" hello world from GPU! \\n\");\n",
        "    //cout << \"Hello World from GPU!\\n\";\n",
        "}\n",
        "\n",
        "int main() {\n",
        "    cuda_hello<<<1,1>>>(); \n",
        "    printf(\" hello world from main! \\n\");\n",
        "    cudaDeviceSynchronize();\n",
        "    //cout << \"hello world from main!\\n\";\n",
        "    return 0;\n",
        "}"
      ],
      "metadata": {
        "colab": {
          "base_uri": "https://localhost:8080/"
        },
        "id": "OwvnqvY25Ion",
        "outputId": "ccf7ba81-ebe9-4bb6-f0f4-08999d313390"
      },
      "execution_count": 10,
      "outputs": [
        {
          "output_type": "stream",
          "name": "stdout",
          "text": [
            " hello world from main! \n",
            " hello world from GPU! \n",
            "\n"
          ]
        }
      ]
    },
    {
      "cell_type": "markdown",
      "source": [
        "# CPU Version -- Vector add\n",
        "ref : https://cuda-tutorial.readthedocs.io/en/latest/tutorials/tutorial01/"
      ],
      "metadata": {
        "id": "W3VvjHN179xY"
      }
    },
    {
      "cell_type": "code",
      "source": [
        "%%cu \n",
        "#include<stdio.h>\n",
        "#define N 10000000\n",
        "\n",
        "void vector_add(float *out, float *a, float *b, int n) {\n",
        "    for(int i = 0; i < n; i++){\n",
        "        out[i] = a[i] + b[i];\n",
        "    }\n",
        "}\n",
        "\n",
        "int main(){\n",
        "    float *a, *b, *out; \n",
        "    int  i;\n",
        "\n",
        "    // Allocate memory\n",
        "    a   = (float*)malloc(sizeof(float) * N);\n",
        "    b   = (float*)malloc(sizeof(float) * N);\n",
        "    out = (float*)malloc(sizeof(float) * N);\n",
        "\n",
        "    // Initialize array\n",
        "    for(int i = 0; i < N; i++){\n",
        "        a[i] = 1.0f; b[i] = 2.0f;\n",
        "    }\n",
        "\n",
        "    // Main function\n",
        "    vector_add(out, a, b, N);\n",
        "    for(i=0;i<5;i++){\n",
        "        printf(\"%f + %f = %f\\n\",a[i],b[i],out[i]);\n",
        "    }\n",
        "}\n"
      ],
      "metadata": {
        "colab": {
          "base_uri": "https://localhost:8080/"
        },
        "id": "H4r2bLNH78-b",
        "outputId": "18a0bcfe-aef1-4a41-ead8-7bafad6c3a89"
      },
      "execution_count": 11,
      "outputs": [
        {
          "output_type": "stream",
          "name": "stdout",
          "text": [
            "1.000000 + 2.000000 = 3.000000\n",
            "1.000000 + 2.000000 = 3.000000\n",
            "1.000000 + 2.000000 = 3.000000\n",
            "1.000000 + 2.000000 = 3.000000\n",
            "1.000000 + 2.000000 = 3.000000\n",
            "\n"
          ]
        }
      ]
    },
    {
      "cell_type": "code",
      "source": [
        "%%writefile vector_add_cpu.cu\n",
        "\n",
        "#include<stdio.h>\n",
        "#define N 10000000\n",
        "\n",
        "void vector_add(float *out, float *a, float *b, int n) {\n",
        "    for(int i = 0; i < n; i++){\n",
        "        out[i] = a[i] + b[i];\n",
        "    }\n",
        "}\n",
        "\n",
        "int main(){\n",
        "    float *a, *b, *out; \n",
        "    int  i;\n",
        "\n",
        "    // Allocate memory\n",
        "    a   = (float*)malloc(sizeof(float) * N);\n",
        "    b   = (float*)malloc(sizeof(float) * N);\n",
        "    out = (float*)malloc(sizeof(float) * N);\n",
        "\n",
        "    // Initialize array\n",
        "    for(int i = 0; i < N; i++){\n",
        "        a[i] = 1.0f; b[i] = 2.0f;\n",
        "    }\n",
        "\n",
        "    // Main function\n",
        "    vector_add(out, a, b, N);\n",
        "    for(i=0;i<5;i++){\n",
        "        printf(\"%f + %f = %f\\n\",a[i],b[i],out[i]);\n",
        "    }\n",
        "}"
      ],
      "metadata": {
        "colab": {
          "base_uri": "https://localhost:8080/"
        },
        "id": "VjzPQ0MMORyY",
        "outputId": "61337b47-b478-4da9-ddc1-01400dd8c8c9"
      },
      "execution_count": 12,
      "outputs": [
        {
          "output_type": "stream",
          "name": "stdout",
          "text": [
            "Writing vector_add_cpu.cu\n"
          ]
        }
      ]
    },
    {
      "cell_type": "markdown",
      "source": [
        "# GPGPU version --  Vector add\n",
        "ref : https://cuda-tutorial.readthedocs.io/en/latest/tutorials/tutorial01/ "
      ],
      "metadata": {
        "id": "GwteycTl8z5r"
      }
    },
    {
      "cell_type": "code",
      "source": [
        "%%cu\n",
        "#include<stdio.h> \n",
        "static void HandleError( cudaError_t err,const char *file,int line ) {\n",
        "    if (err != cudaSuccess) {\n",
        "        printf( \"%s in %s at line %d\\n\", cudaGetErrorString( err ),\n",
        "                file, line );\n",
        "        exit( EXIT_FAILURE );\n",
        "    }\n",
        "}\n",
        "#define HANDLE_ERROR( err ) (HandleError( err, __FILE__, __LINE__ )) \n",
        "#define N 10000000\n",
        "__global__ void vector_add(float *out, float *a, float *b, int n) {\n",
        "    for(int i = 0; i < n; i++){\n",
        "        out[i] = a[i] + b[i];\n",
        "    }\n",
        "}\n",
        "\n",
        "int main(){\n",
        "    float *a, *b, *out; \n",
        "    float *d_a,*d_b,*d_out;\n",
        "    int   i;\n",
        "    // Allocate memory\n",
        "    #if 1\n",
        "    a   = (float*)malloc(sizeof(float) * N);\n",
        "    b   = (float*)malloc(sizeof(float) * N);\n",
        "    out  = (float*)malloc(sizeof(float) * N);\n",
        "    #else \n",
        "    HANDLE_ERROR(cudaMalloc(a,sizeof(float) * N));\n",
        "    HANDLE_ERROR(cudaMalloc(b,sizeof(float) * N));\n",
        "    HANDLE_ERROR(cudaMalloc(c,sizeof(float) * N));\n",
        "    #endif \n",
        "\n",
        "    // Initialize array\n",
        "    for(int i = 0; i < N; i++){\n",
        "        a[i] = 1.0f; b[i] = 2.0f;\n",
        "    }\n",
        "\n",
        "    // Main function\n",
        "    #if 0 \n",
        "    vector_add(out, a, b, N);\n",
        "    #else\n",
        "\n",
        "    // Allocate device memory for a\n",
        "    HANDLE_ERROR(cudaMalloc((void**)&d_a, sizeof(float) * N));\n",
        "    HANDLE_ERROR(cudaMalloc((void**)&d_b, sizeof(float) * N));\n",
        "    HANDLE_ERROR(cudaMalloc((void**)&d_out, sizeof(float) * N));\n",
        "\n",
        "    // Transfer data from host to device memory\n",
        "    HANDLE_ERROR(cudaMemcpy(d_a, a, sizeof(float) * N, cudaMemcpyHostToDevice));\n",
        "    HANDLE_ERROR(cudaMemcpy(d_b, b, sizeof(float) * N, cudaMemcpyHostToDevice));\n",
        "    HANDLE_ERROR(cudaMemcpy(d_out, out, sizeof(float) * N, cudaMemcpyHostToDevice));\n",
        "    printf(\"cpu address %x %x %x\\n\",a,b,out);\n",
        "    printf(\"gpu address %x %x %x\\n\",d_a,d_b,d_out);\n",
        "    vector_add<<<1,1>>>(d_out, d_a, d_b, N);\n",
        "    HANDLE_ERROR(cudaMemcpy(out, d_out, sizeof(float) * N, cudaMemcpyDeviceToHost));\n",
        "    for(i=0;i<5;i++){\n",
        "        printf(\"%f + %f = %f\\n\",a[i],b[i],out[i]);\n",
        "    }\n",
        "    // Cleanup after kernel execution\n",
        "    cudaFree(d_a);\n",
        "    cudaFree(d_b);\n",
        "    cudaFree(d_out);\n",
        "    #endif\n",
        "    free(a);\n",
        "    free(b);\n",
        "    free(out);\n",
        "}\n"
      ],
      "metadata": {
        "colab": {
          "base_uri": "https://localhost:8080/"
        },
        "id": "b2ZpGvn27FyW",
        "outputId": "03d5afa3-780c-4e20-e858-baecf47275f2"
      },
      "execution_count": 22,
      "outputs": [
        {
          "output_type": "stream",
          "name": "stdout",
          "text": [
            "cpu address c3134000 c575a000 c7d80000\n",
            "gpu address bc000000 b8000000 b4000000\n",
            "1.000000 + 2.000000 = 3.000000\n",
            "1.000000 + 2.000000 = 3.000000\n",
            "1.000000 + 2.000000 = 3.000000\n",
            "1.000000 + 2.000000 = 3.000000\n",
            "1.000000 + 2.000000 = 3.000000\n",
            "\n"
          ]
        }
      ]
    },
    {
      "cell_type": "code",
      "source": [
        "%%writefile vector_add_gpu.cu\n",
        "#include<stdio.h> \n",
        "static void HandleError( cudaError_t err,const char *file,int line ) {\n",
        "    if (err != cudaSuccess) {\n",
        "        printf( \"%s in %s at line %d\\n\", cudaGetErrorString( err ),\n",
        "                file, line );\n",
        "        exit( EXIT_FAILURE );\n",
        "    }\n",
        "}\n",
        "#define HANDLE_ERROR( err ) (HandleError( err, __FILE__, __LINE__ )) \n",
        "#define N 10000000\n",
        "__global__ void vector_add(float *out, float *a, float *b, int n) {\n",
        "    for(int i = 0; i < n; i++){\n",
        "        out[i] = a[i] + b[i];\n",
        "    }\n",
        "}\n",
        "\n",
        "int main(){\n",
        "    float *a, *b, *out; \n",
        "    float *d_a,*d_b,*d_out;\n",
        "    int   i;\n",
        "    // Allocate memory\n",
        "    #if 1\n",
        "    a   = (float*)malloc(sizeof(float) * N);\n",
        "    b   = (float*)malloc(sizeof(float) * N);\n",
        "    out  = (float*)malloc(sizeof(float) * N);\n",
        "    #else \n",
        "    HANDLE_ERROR(cudaMalloc(a,sizeof(float) * N));\n",
        "    HANDLE_ERROR(cudaMalloc(b,sizeof(float) * N));\n",
        "    HANDLE_ERROR(cudaMalloc(c,sizeof(float) * N));\n",
        "    #endif \n",
        "\n",
        "    // Initialize array\n",
        "    for(int i = 0; i < N; i++){\n",
        "        a[i] = 1.0f; b[i] = 2.0f;\n",
        "    }\n",
        "\n",
        "    // Main function\n",
        "    #if 0 \n",
        "    vector_add(out, a, b, N);\n",
        "    #else\n",
        "\n",
        "    // Allocate device memory for a\n",
        "    HANDLE_ERROR(cudaMalloc((void**)&d_a, sizeof(float) * N));\n",
        "    HANDLE_ERROR(cudaMalloc((void**)&d_b, sizeof(float) * N));\n",
        "    HANDLE_ERROR(cudaMalloc((void**)&d_out, sizeof(float) * N));\n",
        "\n",
        "    // Transfer data from host to device memory\n",
        "    HANDLE_ERROR(cudaMemcpy(d_a, a, sizeof(float) * N, cudaMemcpyHostToDevice));\n",
        "    HANDLE_ERROR(cudaMemcpy(d_b, b, sizeof(float) * N, cudaMemcpyHostToDevice));\n",
        "    HANDLE_ERROR(cudaMemcpy(d_out, out, sizeof(float) * N, cudaMemcpyHostToDevice));\n",
        "\n",
        "    vector_add<<<16,16>>>(d_out, d_a, d_b, N);\n",
        "    HANDLE_ERROR(cudaMemcpy(out, d_out, sizeof(float) * N, cudaMemcpyDeviceToHost));\n",
        "    for(i=0;i<5;i++){\n",
        "        printf(\"%f + %f = %f\\n\",a[i],b[i],out[i]);\n",
        "    }\n",
        "    // Cleanup after kernel execution\n",
        "    cudaFree(d_a);\n",
        "    cudaFree(d_b);\n",
        "    cudaFree(d_out);\n",
        "    #endif\n",
        "    free(a);\n",
        "    free(b);\n",
        "    free(out);\n",
        "}"
      ],
      "metadata": {
        "colab": {
          "base_uri": "https://localhost:8080/"
        },
        "id": "ecMH2A6pOizA",
        "outputId": "cfa1a90a-5648-471a-ac54-8da3f8c259e7"
      },
      "execution_count": 14,
      "outputs": [
        {
          "output_type": "stream",
          "name": "stdout",
          "text": [
            "Writing vector_add_gpu.cu\n"
          ]
        }
      ]
    },
    {
      "cell_type": "code",
      "source": [
        "!ls"
      ],
      "metadata": {
        "colab": {
          "base_uri": "https://localhost:8080/"
        },
        "id": "gs6EjFzqPRkX",
        "outputId": "2ea27e2f-08d9-4505-9be1-deaf420b70a7"
      },
      "execution_count": 15,
      "outputs": [
        {
          "output_type": "stream",
          "name": "stdout",
          "text": [
            "sample_data  src  vector_add_cpu.cu  vector_add_gpu.cu\n"
          ]
        }
      ]
    },
    {
      "cell_type": "code",
      "source": [
        "!nvcc vector_add_cpu.cu -o v_cpu"
      ],
      "metadata": {
        "id": "1pvgwAfFPUhf"
      },
      "execution_count": 16,
      "outputs": []
    },
    {
      "cell_type": "code",
      "source": [
        "!nvcc vector_add_gpu.cu -o v_gpu"
      ],
      "metadata": {
        "id": "5xZH_3MCPc3m"
      },
      "execution_count": 17,
      "outputs": []
    },
    {
      "cell_type": "code",
      "source": [
        "!time ./v_cpu"
      ],
      "metadata": {
        "colab": {
          "base_uri": "https://localhost:8080/"
        },
        "id": "kdnc5CVePjt6",
        "outputId": "fc2b8c7f-fcfb-4607-b5fe-f1379ddccfbb"
      },
      "execution_count": 18,
      "outputs": [
        {
          "output_type": "stream",
          "name": "stdout",
          "text": [
            "1.000000 + 2.000000 = 3.000000\n",
            "1.000000 + 2.000000 = 3.000000\n",
            "1.000000 + 2.000000 = 3.000000\n",
            "1.000000 + 2.000000 = 3.000000\n",
            "1.000000 + 2.000000 = 3.000000\n",
            "\n",
            "real\t0m0.111s\n",
            "user\t0m0.059s\n",
            "sys\t0m0.050s\n"
          ]
        }
      ]
    },
    {
      "cell_type": "code",
      "source": [
        "!nvprof --version"
      ],
      "metadata": {
        "colab": {
          "base_uri": "https://localhost:8080/"
        },
        "id": "HB_JFFpvPQz8",
        "outputId": "95f19c64-c706-418b-ab38-186bcbd0edfd"
      },
      "execution_count": 19,
      "outputs": [
        {
          "output_type": "stream",
          "name": "stdout",
          "text": [
            "nvprof: NVIDIA (R) Cuda command line profiler\n",
            "Copyright (c) 2012 - 2020 NVIDIA Corporation\n",
            "Release version 11.1.105 (21)\n"
          ]
        }
      ]
    },
    {
      "cell_type": "code",
      "source": [
        "!nvprof ./v_gpu"
      ],
      "metadata": {
        "colab": {
          "base_uri": "https://localhost:8080/"
        },
        "id": "0ooYaLRdPqGS",
        "outputId": "6ef4efab-e02d-4159-967c-ea0788d5e9ad"
      },
      "execution_count": 20,
      "outputs": [
        {
          "output_type": "stream",
          "name": "stdout",
          "text": [
            "==504== NVPROF is profiling process 504, command: ./v_gpu\n",
            "1.000000 + 2.000000 = 3.000000\n",
            "1.000000 + 2.000000 = 3.000000\n",
            "1.000000 + 2.000000 = 3.000000\n",
            "1.000000 + 2.000000 = 3.000000\n",
            "1.000000 + 2.000000 = 3.000000\n",
            "==504== Profiling application: ./v_gpu\n",
            "==504== Profiling result:\n",
            "            Type  Time(%)      Time     Calls       Avg       Min       Max  Name\n",
            " GPU activities:   91.31%  687.79ms         1  687.79ms  687.79ms  687.79ms  vector_add(float*, float*, float*, int)\n",
            "                    4.83%  36.416ms         1  36.416ms  36.416ms  36.416ms  [CUDA memcpy DtoH]\n",
            "                    3.85%  29.024ms         3  9.6748ms  8.2584ms  12.098ms  [CUDA memcpy HtoD]\n",
            "      API calls:   71.90%  755.17ms         4  188.79ms  8.4988ms  725.34ms  cudaMemcpy\n",
            "                   27.83%  292.28ms         3  97.428ms  125.36us  291.97ms  cudaMalloc\n",
            "                    0.22%  2.2661ms         3  755.38us  219.19us  1.0281ms  cudaFree\n",
            "                    0.03%  341.46us         1  341.46us  341.46us  341.46us  cuDeviceTotalMem\n",
            "                    0.01%  150.09us       101  1.4860us     140ns  64.070us  cuDeviceGetAttribute\n",
            "                    0.00%  30.536us         1  30.536us  30.536us  30.536us  cudaLaunchKernel\n",
            "                    0.00%  28.536us         1  28.536us  28.536us  28.536us  cuDeviceGetName\n",
            "                    0.00%  6.4620us         1  6.4620us  6.4620us  6.4620us  cuDeviceGetPCIBusId\n",
            "                    0.00%  1.6350us         3     545ns     192ns  1.0990us  cuDeviceGetCount\n",
            "                    0.00%  1.2560us         2     628ns     304ns     952ns  cuDeviceGet\n",
            "                    0.00%     233ns         1     233ns     233ns     233ns  cuDeviceGetUuid\n"
          ]
        }
      ]
    }
  ],
  "metadata": {
    "colab": {
      "name": "cuda_colab_beginner1.ipynb",
      "provenance": [],
      "toc_visible": true
    },
    "kernelspec": {
      "display_name": "Python 3.8.13 64-bit ('shims')",
      "language": "python",
      "name": "python3"
    },
    "language_info": {
      "name": "python",
      "version": "3.8.13"
    },
    "vscode": {
      "interpreter": {
        "hash": "9ac03a0a6051494cc606d484d27d20fce22fb7b4d169f583271e11d5ba46a56e"
      }
    },
    "accelerator": "GPU"
  },
  "nbformat": 4,
  "nbformat_minor": 0
}