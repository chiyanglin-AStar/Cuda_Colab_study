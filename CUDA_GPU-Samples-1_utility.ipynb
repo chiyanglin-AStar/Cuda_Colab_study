{
  "nbformat": 4,
  "nbformat_minor": 0,
  "metadata": {
    "colab": {
      "name": "CUDA-GPU-simple.ipynb",
      "provenance": [],
      "toc_visible": true
    },
    "kernelspec": {
      "name": "python3",
      "display_name": "Python 3"
    },
    "accelerator": "GPU"
  },
  "cells": [
    {
      "cell_type": "markdown",
      "source": [
        "<a href=\"https://githubtocolab.com/chiyanglin-AStar/Cuda_Colab_study/blob/master/CUDA_GPU-simple.ipynb\" target=\"_parent\"><img src=\"https://colab.research.google.com/assets/colab-badge.svg\" alt=\"Open in Colab\"/></a>"
      ],
      "metadata": {
        "id": "3Er195Vonzia"
      }
    },
    {
      "metadata": {
        "id": "7jo3uJgJ2DhB"
      },
      "cell_type": "markdown",
      "source": [
        "# Install Nvidia & other dependencies\n",
        "\n",
        "in this version , remove colab have built-in package install steps "
      ]
    },
    {
      "metadata": {
        "id": "SZAHFNCj4St8"
      },
      "cell_type": "markdown",
      "source": [
        "# Show our GPU"
      ]
    },
    {
      "metadata": {
        "id": "gvlavcVD4K7W",
        "colab": {
          "base_uri": "https://localhost:8080/"
        },
        "outputId": "aac2f12e-87f2-4390-db3d-0b683cd4fffd"
      },
      "cell_type": "code",
      "source": [
        "! nvidia-smi"
      ],
      "execution_count": null,
      "outputs": [
        {
          "output_type": "stream",
          "name": "stdout",
          "text": [
            "Sun Sep 25 13:05:35 2022       \n",
            "+-----------------------------------------------------------------------------+\n",
            "| NVIDIA-SMI 460.32.03    Driver Version: 460.32.03    CUDA Version: 11.2     |\n",
            "|-------------------------------+----------------------+----------------------+\n",
            "| GPU  Name        Persistence-M| Bus-Id        Disp.A | Volatile Uncorr. ECC |\n",
            "| Fan  Temp  Perf  Pwr:Usage/Cap|         Memory-Usage | GPU-Util  Compute M. |\n",
            "|                               |                      |               MIG M. |\n",
            "|===============================+======================+======================|\n",
            "|   0  Tesla T4            Off  | 00000000:00:04.0 Off |                    0 |\n",
            "| N/A   39C    P8     9W /  70W |      0MiB / 15109MiB |      0%      Default |\n",
            "|                               |                      |                  N/A |\n",
            "+-------------------------------+----------------------+----------------------+\n",
            "                                                                               \n",
            "+-----------------------------------------------------------------------------+\n",
            "| Processes:                                                                  |\n",
            "|  GPU   GI   CI        PID   Type   Process name                  GPU Memory |\n",
            "|        ID   ID                                                   Usage      |\n",
            "|=============================================================================|\n",
            "|  No running processes found                                                 |\n",
            "+-----------------------------------------------------------------------------+\n"
          ]
        }
      ]
    },
    {
      "metadata": {
        "id": "a_cjIVVP4egG"
      },
      "cell_type": "markdown",
      "source": [
        "# C Compiler"
      ]
    },
    {
      "metadata": {
        "id": "Cv_ejpDm4glG",
        "colab": {
          "base_uri": "https://localhost:8080/"
        },
        "outputId": "74da6d92-92a3-46f6-8fc1-a367a4fe0122"
      },
      "cell_type": "code",
      "source": [
        "!gcc -v"
      ],
      "execution_count": null,
      "outputs": [
        {
          "output_type": "stream",
          "name": "stdout",
          "text": [
            "Using built-in specs.\n",
            "COLLECT_GCC=gcc\n",
            "COLLECT_LTO_WRAPPER=/usr/lib/gcc/x86_64-linux-gnu/7/lto-wrapper\n",
            "OFFLOAD_TARGET_NAMES=nvptx-none\n",
            "OFFLOAD_TARGET_DEFAULT=1\n",
            "Target: x86_64-linux-gnu\n",
            "Configured with: ../src/configure -v --with-pkgversion='Ubuntu 7.5.0-3ubuntu1~18.04' --with-bugurl=file:///usr/share/doc/gcc-7/README.Bugs --enable-languages=c,ada,c++,go,brig,d,fortran,objc,obj-c++ --prefix=/usr --with-gcc-major-version-only --program-suffix=-7 --program-prefix=x86_64-linux-gnu- --enable-shared --enable-linker-build-id --libexecdir=/usr/lib --without-included-gettext --enable-threads=posix --libdir=/usr/lib --enable-nls --enable-bootstrap --enable-clocale=gnu --enable-libstdcxx-debug --enable-libstdcxx-time=yes --with-default-libstdcxx-abi=new --enable-gnu-unique-object --disable-vtable-verify --enable-libmpx --enable-plugin --enable-default-pie --with-system-zlib --with-target-system-zlib --enable-objc-gc=auto --enable-multiarch --disable-werror --with-arch-32=i686 --with-abi=m64 --with-multilib-list=m32,m64,mx32 --enable-multilib --with-tune=generic --enable-offload-targets=nvptx-none --without-cuda-driver --enable-checking=release --build=x86_64-linux-gnu --host=x86_64-linux-gnu --target=x86_64-linux-gnu\n",
            "Thread model: posix\n",
            "gcc version 7.5.0 (Ubuntu 7.5.0-3ubuntu1~18.04) \n"
          ]
        }
      ]
    },
    {
      "metadata": {
        "id": "y3fQT5o--txn"
      },
      "cell_type": "markdown",
      "source": [
        "# Install CUDA"
      ]
    },
    {
      "metadata": {
        "id": "evxzc04GGqH3",
        "colab": {
          "base_uri": "https://localhost:8080/"
        },
        "outputId": "30bfadc1-4f06-4dc3-e974-eac67268e2cf"
      },
      "cell_type": "code",
      "source": [
        "!nvcc --version"
      ],
      "execution_count": null,
      "outputs": [
        {
          "output_type": "stream",
          "name": "stdout",
          "text": [
            "nvcc: NVIDIA (R) Cuda compiler driver\n",
            "Copyright (c) 2005-2022 NVIDIA Corporation\n",
            "Built on Wed_Jun__8_16:49:14_PDT_2022\n",
            "Cuda compilation tools, release 11.7, V11.7.99\n",
            "Build cuda_11.7.r11.7/compiler.31442593_0\n"
          ]
        }
      ]
    },
    {
      "metadata": {
        "id": "50rnK3u2DW5I",
        "colab": {
          "base_uri": "https://localhost:8080/"
        },
        "outputId": "851c3956-7a93-41c0-f6e9-fc59a1663e94"
      },
      "cell_type": "code",
      "source": [
        "!apt-get update"
      ],
      "execution_count": null,
      "outputs": [
        {
          "output_type": "stream",
          "name": "stdout",
          "text": [
            "\r0% [Working]\r            \rHit:1 http://archive.ubuntu.com/ubuntu bionic InRelease\n",
            "\r0% [Waiting for headers] [Connecting to security.ubuntu.com (185.125.190.36)] [\r0% [1 InRelease gpgv 242 kB] [Waiting for headers] [Connecting to security.ubun\r                                                                               \rGet:2 http://archive.ubuntu.com/ubuntu bionic-updates InRelease [88.7 kB]\n",
            "Get:3 https://cloud.r-project.org/bin/linux/ubuntu bionic-cran40/ InRelease [3,626 B]\n",
            "Get:4 http://security.ubuntu.com/ubuntu bionic-security InRelease [88.7 kB]\n",
            "Get:5 http://ppa.launchpad.net/c2d4u.team/c2d4u4.0+/ubuntu bionic InRelease [15.9 kB]\n",
            "Get:6 http://archive.ubuntu.com/ubuntu bionic-backports InRelease [83.3 kB]\n",
            "Hit:7 http://ppa.launchpad.net/cran/libgit2/ubuntu bionic InRelease\n",
            "Hit:8 http://ppa.launchpad.net/deadsnakes/ppa/ubuntu bionic InRelease\n",
            "Get:9 http://archive.ubuntu.com/ubuntu bionic-updates/universe amd64 Packages [2,322 kB]\n",
            "Hit:10 http://ppa.launchpad.net/graphics-drivers/ppa/ubuntu bionic InRelease\n",
            "Get:11 http://archive.ubuntu.com/ubuntu bionic-updates/main amd64 Packages [3,422 kB]\n",
            "Ign:12 https://developer.download.nvidia.com/compute/machine-learning/repos/ubuntu1804/x86_64  InRelease\n",
            "Get:13 http://archive.ubuntu.com/ubuntu bionic-backports/main amd64 Packages [64.0 kB]\n",
            "Get:14 http://archive.ubuntu.com/ubuntu bionic-backports/universe amd64 Packages [20.6 kB]\n",
            "Hit:15 https://developer.download.nvidia.com/compute/cuda/repos/ubuntu1804/x86_64  InRelease\n",
            "Hit:16 https://developer.download.nvidia.com/compute/machine-learning/repos/ubuntu1804/x86_64  Release\n",
            "Get:17 http://ppa.launchpad.net/c2d4u.team/c2d4u4.0+/ubuntu bionic/main Sources [2,133 kB]\n",
            "Get:18 http://security.ubuntu.com/ubuntu bionic-security/main amd64 Packages [2,990 kB]\n",
            "Get:19 http://security.ubuntu.com/ubuntu bionic-security/universe amd64 Packages [1,545 kB]\n",
            "Get:20 http://ppa.launchpad.net/c2d4u.team/c2d4u4.0+/ubuntu bionic/main amd64 Packages [1,093 kB]\n",
            "Fetched 13.9 MB in 3s (4,968 kB/s)\n",
            "Reading package lists... Done\n"
          ]
        }
      ]
    },
    {
      "cell_type": "markdown",
      "source": [
        "# nvcc show version , next three cells didn't run"
      ],
      "metadata": {
        "id": "mGS883nPwlwh"
      }
    },
    {
      "metadata": {
        "id": "yiHjgIZyDaEB",
        "colab": {
          "base_uri": "https://localhost:8080/"
        },
        "outputId": "dad6459f-71a5-409b-d6f0-b1222d5bad29"
      },
      "cell_type": "code",
      "source": [
        "!apt-get install cuda"
      ],
      "execution_count": null,
      "outputs": [
        {
          "output_type": "stream",
          "name": "stdout",
          "text": [
            "Reading package lists... Done\n",
            "Building dependency tree       \n",
            "Reading state information... Done\n",
            "The following package was automatically installed and is no longer required:\n",
            "  libnvidia-common-460\n",
            "Use 'apt autoremove' to remove it.\n",
            "The following additional packages will be installed:\n",
            "  cuda-11-7 cuda-cccl-11-7 cuda-command-line-tools-11-7 cuda-compiler-11-7\n",
            "  cuda-cudart-11-7 cuda-cudart-dev-11-7 cuda-cuobjdump-11-7 cuda-cupti-11-7\n",
            "  cuda-cupti-dev-11-7 cuda-cuxxfilt-11-7 cuda-demo-suite-11-7\n",
            "  cuda-documentation-11-7 cuda-driver-dev-11-7 cuda-gdb-11-7\n",
            "  cuda-libraries-11-7 cuda-libraries-dev-11-7 cuda-memcheck-11-7\n",
            "  cuda-nsight-11-7 cuda-nsight-compute-11-7 cuda-nsight-systems-11-7\n",
            "  cuda-nvcc-11-7 cuda-nvdisasm-11-7 cuda-nvml-dev-11-7 cuda-nvprof-11-7\n",
            "  cuda-nvprune-11-7 cuda-nvrtc-11-7 cuda-nvrtc-dev-11-7 cuda-nvtx-11-7\n",
            "  cuda-nvvp-11-7 cuda-runtime-11-7 cuda-sanitizer-11-7 cuda-toolkit-11-7\n",
            "  cuda-toolkit-11-7-config-common cuda-toolkit-11-config-common\n",
            "  cuda-toolkit-config-common cuda-tools-11-7 cuda-visual-tools-11-7\n",
            "  gds-tools-11-7 libcublas-11-7 libcublas-dev-11-7 libcufft-11-7\n",
            "  libcufft-dev-11-7 libcufile-11-7 libcufile-dev-11-7 libcurand-11-7\n",
            "  libcurand-dev-11-7 libcusolver-11-7 libcusolver-dev-11-7 libcusparse-11-7\n",
            "  libcusparse-dev-11-7 libnpp-11-7 libnpp-dev-11-7 libnvjpeg-11-7\n",
            "  libnvjpeg-dev-11-7\n",
            "The following NEW packages will be installed:\n",
            "  cuda cuda-11-7 cuda-cccl-11-7 cuda-command-line-tools-11-7\n",
            "  cuda-compiler-11-7 cuda-cudart-11-7 cuda-cudart-dev-11-7 cuda-cuobjdump-11-7\n",
            "  cuda-cupti-11-7 cuda-cupti-dev-11-7 cuda-cuxxfilt-11-7 cuda-demo-suite-11-7\n",
            "  cuda-documentation-11-7 cuda-driver-dev-11-7 cuda-gdb-11-7\n",
            "  cuda-libraries-11-7 cuda-libraries-dev-11-7 cuda-memcheck-11-7\n",
            "  cuda-nsight-11-7 cuda-nsight-compute-11-7 cuda-nsight-systems-11-7\n",
            "  cuda-nvcc-11-7 cuda-nvdisasm-11-7 cuda-nvml-dev-11-7 cuda-nvprof-11-7\n",
            "  cuda-nvprune-11-7 cuda-nvrtc-11-7 cuda-nvrtc-dev-11-7 cuda-nvtx-11-7\n",
            "  cuda-nvvp-11-7 cuda-runtime-11-7 cuda-sanitizer-11-7 cuda-toolkit-11-7\n",
            "  cuda-toolkit-11-7-config-common cuda-toolkit-11-config-common\n",
            "  cuda-toolkit-config-common cuda-tools-11-7 cuda-visual-tools-11-7\n",
            "  gds-tools-11-7 libcublas-11-7 libcublas-dev-11-7 libcufft-11-7\n",
            "  libcufft-dev-11-7 libcufile-11-7 libcufile-dev-11-7 libcurand-11-7\n",
            "  libcurand-dev-11-7 libcusolver-11-7 libcusolver-dev-11-7 libcusparse-11-7\n",
            "  libcusparse-dev-11-7 libnpp-11-7 libnpp-dev-11-7 libnvjpeg-11-7\n",
            "  libnvjpeg-dev-11-7\n",
            "0 upgraded, 55 newly installed, 0 to remove and 26 not upgraded.\n",
            "Need to get 1,617 MB of archives.\n",
            "After this operation, 4,299 MB of additional disk space will be used.\n",
            "Get:1 https://developer.download.nvidia.com/compute/cuda/repos/ubuntu1804/x86_64  cuda-toolkit-config-common 11.7.99-1 [16.3 kB]\n",
            "Get:2 https://developer.download.nvidia.com/compute/cuda/repos/ubuntu1804/x86_64  cuda-toolkit-11-config-common 11.7.99-1 [16.3 kB]\n",
            "Get:3 https://developer.download.nvidia.com/compute/cuda/repos/ubuntu1804/x86_64  cuda-toolkit-11-7-config-common 11.7.99-1 [16.2 kB]\n",
            "Get:4 https://developer.download.nvidia.com/compute/cuda/repos/ubuntu1804/x86_64  cuda-cudart-11-7 11.7.99-1 [162 kB]\n",
            "Get:5 https://developer.download.nvidia.com/compute/cuda/repos/ubuntu1804/x86_64  cuda-nvrtc-11-7 11.7.99-1 [15.1 MB]\n",
            "Get:6 https://developer.download.nvidia.com/compute/cuda/repos/ubuntu1804/x86_64  libcublas-11-7 11.10.3.66-1 [210 MB]\n",
            "Get:7 https://developer.download.nvidia.com/compute/cuda/repos/ubuntu1804/x86_64  libcufft-11-7 10.7.2.91-1 [68.3 MB]\n",
            "Get:8 https://developer.download.nvidia.com/compute/cuda/repos/ubuntu1804/x86_64  libcufile-11-7 1.3.1.18-1 [472 kB]\n",
            "Get:9 https://developer.download.nvidia.com/compute/cuda/repos/ubuntu1804/x86_64  libcurand-11-7 10.2.10.91-1 [41.5 MB]\n",
            "Get:10 https://developer.download.nvidia.com/compute/cuda/repos/ubuntu1804/x86_64  libcusolver-11-7 11.4.0.1-1 [45.6 MB]\n",
            "Get:11 https://developer.download.nvidia.com/compute/cuda/repos/ubuntu1804/x86_64  libcusparse-11-7 11.7.4.91-1 [103 MB]\n",
            "Get:12 https://developer.download.nvidia.com/compute/cuda/repos/ubuntu1804/x86_64  libnpp-11-7 11.7.4.75-1 [93.6 MB]\n",
            "Get:13 https://developer.download.nvidia.com/compute/cuda/repos/ubuntu1804/x86_64  libnvjpeg-11-7 11.8.0.2-1 [1,738 kB]\n",
            "Get:14 https://developer.download.nvidia.com/compute/cuda/repos/ubuntu1804/x86_64  cuda-libraries-11-7 11.7.1-1 [2,512 B]\n",
            "Get:15 https://developer.download.nvidia.com/compute/cuda/repos/ubuntu1804/x86_64  cuda-runtime-11-7 11.7.1-1 [2,418 B]\n",
            "Get:16 https://developer.download.nvidia.com/compute/cuda/repos/ubuntu1804/x86_64  cuda-cuobjdump-11-7 11.7.91-1 [130 kB]\n",
            "Get:17 https://developer.download.nvidia.com/compute/cuda/repos/ubuntu1804/x86_64  cuda-cuxxfilt-11-7 11.7.91-1 [188 kB]\n",
            "Get:18 https://developer.download.nvidia.com/compute/cuda/repos/ubuntu1804/x86_64  cuda-cccl-11-7 11.7.91-1 [1,043 kB]\n",
            "Get:19 https://developer.download.nvidia.com/compute/cuda/repos/ubuntu1804/x86_64  cuda-driver-dev-11-7 11.7.99-1 [27.0 kB]\n",
            "Get:20 https://developer.download.nvidia.com/compute/cuda/repos/ubuntu1804/x86_64  cuda-cudart-dev-11-7 11.7.99-1 [764 kB]\n",
            "Get:21 https://developer.download.nvidia.com/compute/cuda/repos/ubuntu1804/x86_64  cuda-nvcc-11-7 11.7.99-1 [36.0 MB]\n",
            "Get:22 https://developer.download.nvidia.com/compute/cuda/repos/ubuntu1804/x86_64  cuda-nvprune-11-7 11.7.91-1 [57.4 kB]\n",
            "Get:23 https://developer.download.nvidia.com/compute/cuda/repos/ubuntu1804/x86_64  cuda-compiler-11-7 11.7.1-1 [2,426 B]\n",
            "Get:24 https://developer.download.nvidia.com/compute/cuda/repos/ubuntu1804/x86_64  cuda-nvrtc-dev-11-7 11.7.99-1 [13.5 MB]\n",
            "Get:25 https://developer.download.nvidia.com/compute/cuda/repos/ubuntu1804/x86_64  libcublas-dev-11-7 11.10.3.66-1 [217 MB]\n",
            "Get:26 https://developer.download.nvidia.com/compute/cuda/repos/ubuntu1804/x86_64  libcufft-dev-11-7 10.7.2.91-1 [152 MB]\n",
            "Get:27 https://developer.download.nvidia.com/compute/cuda/repos/ubuntu1804/x86_64  libcufile-dev-11-7 1.3.1.18-1 [7,835 kB]\n",
            "Get:28 https://developer.download.nvidia.com/compute/cuda/repos/ubuntu1804/x86_64  libcurand-dev-11-7 10.2.10.91-1 [41.9 MB]\n",
            "Get:29 https://developer.download.nvidia.com/compute/cuda/repos/ubuntu1804/x86_64  libcusolver-dev-11-7 11.4.0.1-1 [32.7 MB]\n",
            "Get:30 https://developer.download.nvidia.com/compute/cuda/repos/ubuntu1804/x86_64  libcusparse-dev-11-7 11.7.4.91-1 [105 MB]\n",
            "Get:31 https://developer.download.nvidia.com/compute/cuda/repos/ubuntu1804/x86_64  libnpp-dev-11-7 11.7.4.75-1 [90.8 MB]\n",
            "Get:32 https://developer.download.nvidia.com/compute/cuda/repos/ubuntu1804/x86_64  libnvjpeg-dev-11-7 11.8.0.2-1 [1,409 kB]\n",
            "Get:33 https://developer.download.nvidia.com/compute/cuda/repos/ubuntu1804/x86_64  cuda-libraries-dev-11-7 11.7.1-1 [2,538 B]\n",
            "Get:34 https://developer.download.nvidia.com/compute/cuda/repos/ubuntu1804/x86_64  cuda-cupti-11-7 11.7.101-1 [13.6 MB]\n",
            "Get:35 https://developer.download.nvidia.com/compute/cuda/repos/ubuntu1804/x86_64  cuda-cupti-dev-11-7 11.7.101-1 [2,536 kB]\n",
            "Get:36 https://developer.download.nvidia.com/compute/cuda/repos/ubuntu1804/x86_64  cuda-nvdisasm-11-7 11.7.91-1 [32.8 MB]\n",
            "Get:37 https://developer.download.nvidia.com/compute/cuda/repos/ubuntu1804/x86_64  cuda-gdb-11-7 11.7.91-1 [4,132 kB]\n",
            "Get:38 https://developer.download.nvidia.com/compute/cuda/repos/ubuntu1804/x86_64  cuda-memcheck-11-7 11.7.91-1 [142 kB]\n",
            "Get:39 https://developer.download.nvidia.com/compute/cuda/repos/ubuntu1804/x86_64  cuda-nvprof-11-7 11.7.101-1 [1,947 kB]\n",
            "Get:40 https://developer.download.nvidia.com/compute/cuda/repos/ubuntu1804/x86_64  cuda-nvtx-11-7 11.7.91-1 [51.4 kB]\n",
            "Get:41 https://developer.download.nvidia.com/compute/cuda/repos/ubuntu1804/x86_64  cuda-sanitizer-11-7 11.7.91-1 [8,865 kB]\n",
            "Get:42 https://developer.download.nvidia.com/compute/cuda/repos/ubuntu1804/x86_64  cuda-command-line-tools-11-7 11.7.1-1 [2,468 B]\n",
            "Get:43 https://developer.download.nvidia.com/compute/cuda/repos/ubuntu1804/x86_64  cuda-nsight-compute-11-7 11.7.1-1 [3,710 B]\n",
            "Get:44 https://developer.download.nvidia.com/compute/cuda/repos/ubuntu1804/x86_64  cuda-nsight-systems-11-7 11.7.1-1 [3,302 B]\n",
            "Get:45 https://developer.download.nvidia.com/compute/cuda/repos/ubuntu1804/x86_64  cuda-nsight-11-7 11.7.91-1 [119 MB]\n",
            "Get:46 https://developer.download.nvidia.com/compute/cuda/repos/ubuntu1804/x86_64  cuda-nvml-dev-11-7 11.7.91-1 [79.2 kB]\n",
            "Get:47 https://developer.download.nvidia.com/compute/cuda/repos/ubuntu1804/x86_64  cuda-nvvp-11-7 11.7.101-1 [113 MB]\n",
            "Get:48 https://developer.download.nvidia.com/compute/cuda/repos/ubuntu1804/x86_64  cuda-visual-tools-11-7 11.7.1-1 [2,864 B]\n",
            "Get:49 https://developer.download.nvidia.com/compute/cuda/repos/ubuntu1804/x86_64  gds-tools-11-7 1.3.1.18-1 [38.9 MB]\n",
            "Get:50 https://developer.download.nvidia.com/compute/cuda/repos/ubuntu1804/x86_64  cuda-tools-11-7 11.7.1-1 [2,388 B]\n",
            "Get:51 https://developer.download.nvidia.com/compute/cuda/repos/ubuntu1804/x86_64  cuda-documentation-11-7 11.7.91-1 [49.8 kB]\n",
            "Get:52 https://developer.download.nvidia.com/compute/cuda/repos/ubuntu1804/x86_64  cuda-toolkit-11-7 11.7.1-1 [3,364 B]\n",
            "Get:53 https://developer.download.nvidia.com/compute/cuda/repos/ubuntu1804/x86_64  cuda-demo-suite-11-7 11.7.91-1 [3,987 kB]\n",
            "Get:54 https://developer.download.nvidia.com/compute/cuda/repos/ubuntu1804/x86_64  cuda-11-7 11.7.1-1 [2,444 B]\n",
            "Get:55 https://developer.download.nvidia.com/compute/cuda/repos/ubuntu1804/x86_64  cuda 11.7.1-1 [2,392 B]\n",
            "Fetched 1,617 MB in 1min 29s (18.2 MB/s)\n",
            "Extracting templates from packages: 100%\n",
            "Selecting previously unselected package cuda-toolkit-config-common.\n",
            "(Reading database ... 157604 files and directories currently installed.)\n",
            "Preparing to unpack .../00-cuda-toolkit-config-common_11.7.99-1_all.deb ...\n",
            "Unpacking cuda-toolkit-config-common (11.7.99-1) ...\n",
            "Selecting previously unselected package cuda-toolkit-11-config-common.\n",
            "Preparing to unpack .../01-cuda-toolkit-11-config-common_11.7.99-1_all.deb ...\n",
            "Unpacking cuda-toolkit-11-config-common (11.7.99-1) ...\n",
            "Selecting previously unselected package cuda-toolkit-11-7-config-common.\n",
            "Preparing to unpack .../02-cuda-toolkit-11-7-config-common_11.7.99-1_all.deb ...\n",
            "Unpacking cuda-toolkit-11-7-config-common (11.7.99-1) ...\n",
            "Selecting previously unselected package cuda-cudart-11-7.\n",
            "Preparing to unpack .../03-cuda-cudart-11-7_11.7.99-1_amd64.deb ...\n",
            "Unpacking cuda-cudart-11-7 (11.7.99-1) ...\n",
            "Selecting previously unselected package cuda-nvrtc-11-7.\n",
            "Preparing to unpack .../04-cuda-nvrtc-11-7_11.7.99-1_amd64.deb ...\n",
            "Unpacking cuda-nvrtc-11-7 (11.7.99-1) ...\n",
            "Selecting previously unselected package libcublas-11-7.\n",
            "Preparing to unpack .../05-libcublas-11-7_11.10.3.66-1_amd64.deb ...\n",
            "Unpacking libcublas-11-7 (11.10.3.66-1) ...\n",
            "Selecting previously unselected package libcufft-11-7.\n",
            "Preparing to unpack .../06-libcufft-11-7_10.7.2.91-1_amd64.deb ...\n",
            "Unpacking libcufft-11-7 (10.7.2.91-1) ...\n",
            "Selecting previously unselected package libcufile-11-7.\n",
            "Preparing to unpack .../07-libcufile-11-7_1.3.1.18-1_amd64.deb ...\n",
            "Unpacking libcufile-11-7 (1.3.1.18-1) ...\n",
            "Selecting previously unselected package libcurand-11-7.\n",
            "Preparing to unpack .../08-libcurand-11-7_10.2.10.91-1_amd64.deb ...\n",
            "Unpacking libcurand-11-7 (10.2.10.91-1) ...\n",
            "Selecting previously unselected package libcusolver-11-7.\n",
            "Preparing to unpack .../09-libcusolver-11-7_11.4.0.1-1_amd64.deb ...\n",
            "Unpacking libcusolver-11-7 (11.4.0.1-1) ...\n",
            "Selecting previously unselected package libcusparse-11-7.\n",
            "Preparing to unpack .../10-libcusparse-11-7_11.7.4.91-1_amd64.deb ...\n",
            "Unpacking libcusparse-11-7 (11.7.4.91-1) ...\n",
            "Selecting previously unselected package libnpp-11-7.\n",
            "Preparing to unpack .../11-libnpp-11-7_11.7.4.75-1_amd64.deb ...\n",
            "Unpacking libnpp-11-7 (11.7.4.75-1) ...\n",
            "Selecting previously unselected package libnvjpeg-11-7.\n",
            "Preparing to unpack .../12-libnvjpeg-11-7_11.8.0.2-1_amd64.deb ...\n",
            "Unpacking libnvjpeg-11-7 (11.8.0.2-1) ...\n",
            "Selecting previously unselected package cuda-libraries-11-7.\n",
            "Preparing to unpack .../13-cuda-libraries-11-7_11.7.1-1_amd64.deb ...\n",
            "Unpacking cuda-libraries-11-7 (11.7.1-1) ...\n",
            "Selecting previously unselected package cuda-runtime-11-7.\n",
            "Preparing to unpack .../14-cuda-runtime-11-7_11.7.1-1_amd64.deb ...\n",
            "Unpacking cuda-runtime-11-7 (11.7.1-1) ...\n",
            "Selecting previously unselected package cuda-cuobjdump-11-7.\n",
            "Preparing to unpack .../15-cuda-cuobjdump-11-7_11.7.91-1_amd64.deb ...\n",
            "Unpacking cuda-cuobjdump-11-7 (11.7.91-1) ...\n",
            "Selecting previously unselected package cuda-cuxxfilt-11-7.\n",
            "Preparing to unpack .../16-cuda-cuxxfilt-11-7_11.7.91-1_amd64.deb ...\n",
            "Unpacking cuda-cuxxfilt-11-7 (11.7.91-1) ...\n",
            "Selecting previously unselected package cuda-cccl-11-7.\n",
            "Preparing to unpack .../17-cuda-cccl-11-7_11.7.91-1_amd64.deb ...\n",
            "Unpacking cuda-cccl-11-7 (11.7.91-1) ...\n",
            "Selecting previously unselected package cuda-driver-dev-11-7.\n",
            "Preparing to unpack .../18-cuda-driver-dev-11-7_11.7.99-1_amd64.deb ...\n",
            "Unpacking cuda-driver-dev-11-7 (11.7.99-1) ...\n",
            "Selecting previously unselected package cuda-cudart-dev-11-7.\n",
            "Preparing to unpack .../19-cuda-cudart-dev-11-7_11.7.99-1_amd64.deb ...\n",
            "Unpacking cuda-cudart-dev-11-7 (11.7.99-1) ...\n",
            "Selecting previously unselected package cuda-nvcc-11-7.\n",
            "Preparing to unpack .../20-cuda-nvcc-11-7_11.7.99-1_amd64.deb ...\n",
            "Unpacking cuda-nvcc-11-7 (11.7.99-1) ...\n",
            "Selecting previously unselected package cuda-nvprune-11-7.\n",
            "Preparing to unpack .../21-cuda-nvprune-11-7_11.7.91-1_amd64.deb ...\n",
            "Unpacking cuda-nvprune-11-7 (11.7.91-1) ...\n",
            "Selecting previously unselected package cuda-compiler-11-7.\n",
            "Preparing to unpack .../22-cuda-compiler-11-7_11.7.1-1_amd64.deb ...\n",
            "Unpacking cuda-compiler-11-7 (11.7.1-1) ...\n",
            "Selecting previously unselected package cuda-nvrtc-dev-11-7.\n",
            "Preparing to unpack .../23-cuda-nvrtc-dev-11-7_11.7.99-1_amd64.deb ...\n",
            "Unpacking cuda-nvrtc-dev-11-7 (11.7.99-1) ...\n",
            "Selecting previously unselected package libcublas-dev-11-7.\n",
            "Preparing to unpack .../24-libcublas-dev-11-7_11.10.3.66-1_amd64.deb ...\n",
            "Unpacking libcublas-dev-11-7 (11.10.3.66-1) ...\n",
            "Selecting previously unselected package libcufft-dev-11-7.\n",
            "Preparing to unpack .../25-libcufft-dev-11-7_10.7.2.91-1_amd64.deb ...\n",
            "Unpacking libcufft-dev-11-7 (10.7.2.91-1) ...\n",
            "Selecting previously unselected package libcufile-dev-11-7.\n",
            "Preparing to unpack .../26-libcufile-dev-11-7_1.3.1.18-1_amd64.deb ...\n",
            "Unpacking libcufile-dev-11-7 (1.3.1.18-1) ...\n",
            "Selecting previously unselected package libcurand-dev-11-7.\n",
            "Preparing to unpack .../27-libcurand-dev-11-7_10.2.10.91-1_amd64.deb ...\n",
            "Unpacking libcurand-dev-11-7 (10.2.10.91-1) ...\n",
            "Selecting previously unselected package libcusolver-dev-11-7.\n",
            "Preparing to unpack .../28-libcusolver-dev-11-7_11.4.0.1-1_amd64.deb ...\n",
            "Unpacking libcusolver-dev-11-7 (11.4.0.1-1) ...\n",
            "Selecting previously unselected package libcusparse-dev-11-7.\n",
            "Preparing to unpack .../29-libcusparse-dev-11-7_11.7.4.91-1_amd64.deb ...\n",
            "Unpacking libcusparse-dev-11-7 (11.7.4.91-1) ...\n",
            "Selecting previously unselected package libnpp-dev-11-7.\n",
            "Preparing to unpack .../30-libnpp-dev-11-7_11.7.4.75-1_amd64.deb ...\n",
            "Unpacking libnpp-dev-11-7 (11.7.4.75-1) ...\n",
            "Selecting previously unselected package libnvjpeg-dev-11-7.\n",
            "Preparing to unpack .../31-libnvjpeg-dev-11-7_11.8.0.2-1_amd64.deb ...\n",
            "Unpacking libnvjpeg-dev-11-7 (11.8.0.2-1) ...\n",
            "Selecting previously unselected package cuda-libraries-dev-11-7.\n",
            "Preparing to unpack .../32-cuda-libraries-dev-11-7_11.7.1-1_amd64.deb ...\n",
            "Unpacking cuda-libraries-dev-11-7 (11.7.1-1) ...\n",
            "Selecting previously unselected package cuda-cupti-11-7.\n",
            "Preparing to unpack .../33-cuda-cupti-11-7_11.7.101-1_amd64.deb ...\n",
            "Unpacking cuda-cupti-11-7 (11.7.101-1) ...\n",
            "Selecting previously unselected package cuda-cupti-dev-11-7.\n",
            "Preparing to unpack .../34-cuda-cupti-dev-11-7_11.7.101-1_amd64.deb ...\n",
            "Unpacking cuda-cupti-dev-11-7 (11.7.101-1) ...\n",
            "Selecting previously unselected package cuda-nvdisasm-11-7.\n",
            "Preparing to unpack .../35-cuda-nvdisasm-11-7_11.7.91-1_amd64.deb ...\n",
            "Unpacking cuda-nvdisasm-11-7 (11.7.91-1) ...\n",
            "Selecting previously unselected package cuda-gdb-11-7.\n",
            "Preparing to unpack .../36-cuda-gdb-11-7_11.7.91-1_amd64.deb ...\n",
            "Unpacking cuda-gdb-11-7 (11.7.91-1) ...\n",
            "Selecting previously unselected package cuda-memcheck-11-7.\n",
            "Preparing to unpack .../37-cuda-memcheck-11-7_11.7.91-1_amd64.deb ...\n",
            "Unpacking cuda-memcheck-11-7 (11.7.91-1) ...\n",
            "Selecting previously unselected package cuda-nvprof-11-7.\n",
            "Preparing to unpack .../38-cuda-nvprof-11-7_11.7.101-1_amd64.deb ...\n",
            "Unpacking cuda-nvprof-11-7 (11.7.101-1) ...\n",
            "Selecting previously unselected package cuda-nvtx-11-7.\n",
            "Preparing to unpack .../39-cuda-nvtx-11-7_11.7.91-1_amd64.deb ...\n",
            "Unpacking cuda-nvtx-11-7 (11.7.91-1) ...\n",
            "Selecting previously unselected package cuda-sanitizer-11-7.\n",
            "Preparing to unpack .../40-cuda-sanitizer-11-7_11.7.91-1_amd64.deb ...\n",
            "Unpacking cuda-sanitizer-11-7 (11.7.91-1) ...\n",
            "Selecting previously unselected package cuda-command-line-tools-11-7.\n",
            "Preparing to unpack .../41-cuda-command-line-tools-11-7_11.7.1-1_amd64.deb ...\n",
            "Unpacking cuda-command-line-tools-11-7 (11.7.1-1) ...\n",
            "Selecting previously unselected package cuda-nsight-compute-11-7.\n",
            "Preparing to unpack .../42-cuda-nsight-compute-11-7_11.7.1-1_amd64.deb ...\n",
            "Unpacking cuda-nsight-compute-11-7 (11.7.1-1) ...\n",
            "Selecting previously unselected package cuda-nsight-systems-11-7.\n",
            "Preparing to unpack .../43-cuda-nsight-systems-11-7_11.7.1-1_amd64.deb ...\n",
            "Unpacking cuda-nsight-systems-11-7 (11.7.1-1) ...\n",
            "Selecting previously unselected package cuda-nsight-11-7.\n",
            "Preparing to unpack .../44-cuda-nsight-11-7_11.7.91-1_amd64.deb ...\n",
            "Unpacking cuda-nsight-11-7 (11.7.91-1) ...\n",
            "Selecting previously unselected package cuda-nvml-dev-11-7.\n",
            "Preparing to unpack .../45-cuda-nvml-dev-11-7_11.7.91-1_amd64.deb ...\n",
            "Unpacking cuda-nvml-dev-11-7 (11.7.91-1) ...\n",
            "Selecting previously unselected package cuda-nvvp-11-7.\n",
            "Preparing to unpack .../46-cuda-nvvp-11-7_11.7.101-1_amd64.deb ...\n",
            "Unpacking cuda-nvvp-11-7 (11.7.101-1) ...\n",
            "Selecting previously unselected package cuda-visual-tools-11-7.\n",
            "Preparing to unpack .../47-cuda-visual-tools-11-7_11.7.1-1_amd64.deb ...\n",
            "Unpacking cuda-visual-tools-11-7 (11.7.1-1) ...\n",
            "Selecting previously unselected package gds-tools-11-7.\n",
            "Preparing to unpack .../48-gds-tools-11-7_1.3.1.18-1_amd64.deb ...\n",
            "Unpacking gds-tools-11-7 (1.3.1.18-1) ...\n",
            "Selecting previously unselected package cuda-tools-11-7.\n",
            "Preparing to unpack .../49-cuda-tools-11-7_11.7.1-1_amd64.deb ...\n",
            "Unpacking cuda-tools-11-7 (11.7.1-1) ...\n",
            "Selecting previously unselected package cuda-documentation-11-7.\n",
            "Preparing to unpack .../50-cuda-documentation-11-7_11.7.91-1_amd64.deb ...\n",
            "Unpacking cuda-documentation-11-7 (11.7.91-1) ...\n",
            "Selecting previously unselected package cuda-toolkit-11-7.\n",
            "Preparing to unpack .../51-cuda-toolkit-11-7_11.7.1-1_amd64.deb ...\n",
            "Unpacking cuda-toolkit-11-7 (11.7.1-1) ...\n",
            "Selecting previously unselected package cuda-demo-suite-11-7.\n",
            "Preparing to unpack .../52-cuda-demo-suite-11-7_11.7.91-1_amd64.deb ...\n",
            "Unpacking cuda-demo-suite-11-7 (11.7.91-1) ...\n",
            "Selecting previously unselected package cuda-11-7.\n",
            "Preparing to unpack .../53-cuda-11-7_11.7.1-1_amd64.deb ...\n",
            "Unpacking cuda-11-7 (11.7.1-1) ...\n",
            "Selecting previously unselected package cuda.\n",
            "Preparing to unpack .../54-cuda_11.7.1-1_amd64.deb ...\n",
            "Unpacking cuda (11.7.1-1) ...\n",
            "Setting up cuda-driver-dev-11-7 (11.7.99-1) ...\n",
            "Setting up cuda-toolkit-config-common (11.7.99-1) ...\n",
            "Setting up cuda-cuxxfilt-11-7 (11.7.91-1) ...\n",
            "Setting up cuda-nvvp-11-7 (11.7.101-1) ...\n",
            "Setting up cuda-nvtx-11-7 (11.7.91-1) ...\n",
            "Setting up cuda-nvprune-11-7 (11.7.91-1) ...\n",
            "Setting up cuda-documentation-11-7 (11.7.91-1) ...\n",
            "Setting up cuda-nsight-11-7 (11.7.91-1) ...\n",
            "Setting up cuda-toolkit-11-config-common (11.7.99-1) ...\n",
            "Setting up cuda-sanitizer-11-7 (11.7.91-1) ...\n",
            "Setting up cuda-nvdisasm-11-7 (11.7.91-1) ...\n",
            "Setting up cuda-nsight-systems-11-7 (11.7.1-1) ...\n",
            "Setting up cuda-nvprof-11-7 (11.7.101-1) ...\n",
            "Setting up cuda-cccl-11-7 (11.7.91-1) ...\n",
            "Setting up cuda-nvrtc-11-7 (11.7.99-1) ...\n",
            "Setting up gds-tools-11-7 (1.3.1.18-1) ...\n",
            "Setting up cuda-toolkit-11-7-config-common (11.7.99-1) ...\n",
            "Setting alternatives\n",
            "update-alternatives: using /usr/local/cuda-11.7 to provide /usr/local/cuda (cuda) in auto mode\n",
            "update-alternatives: using /usr/local/cuda-11.7 to provide /usr/local/cuda-11 (cuda-11) in auto mode\n",
            "Setting up cuda-nvml-dev-11-7 (11.7.91-1) ...\n",
            "Setting up libnvjpeg-11-7 (11.8.0.2-1) ...\n",
            "Setting up libnvjpeg-dev-11-7 (11.8.0.2-1) ...\n",
            "Setting up cuda-memcheck-11-7 (11.7.91-1) ...\n",
            "Setting up cuda-nsight-compute-11-7 (11.7.1-1) ...\n",
            "Setting up cuda-cuobjdump-11-7 (11.7.91-1) ...\n",
            "Setting up cuda-nvrtc-dev-11-7 (11.7.99-1) ...\n",
            "Setting up libcublas-11-7 (11.10.3.66-1) ...\n",
            "Setting up libcufile-11-7 (1.3.1.18-1) ...\n",
            "Setting alternatives\n",
            "update-alternatives: using /usr/local/cuda-11.7/gds/cufile.json to provide /etc/cufile.json (cufile.json) in auto mode\n",
            "Setting up cuda-cudart-11-7 (11.7.99-1) ...\n",
            "Setting up libcurand-11-7 (10.2.10.91-1) ...\n",
            "Setting up libcufft-11-7 (10.7.2.91-1) ...\n",
            "Setting up libcusparse-11-7 (11.7.4.91-1) ...\n",
            "Setting up libcurand-dev-11-7 (10.2.10.91-1) ...\n",
            "Setting up libcusolver-11-7 (11.4.0.1-1) ...\n",
            "Setting up libcufile-dev-11-7 (1.3.1.18-1) ...\n",
            "Setting up libnpp-11-7 (11.7.4.75-1) ...\n",
            "Setting up libcusolver-dev-11-7 (11.4.0.1-1) ...\n",
            "Setting up cuda-gdb-11-7 (11.7.91-1) ...\n",
            "Setting up cuda-cudart-dev-11-7 (11.7.99-1) ...\n",
            "Setting up libcublas-dev-11-7 (11.10.3.66-1) ...\n",
            "Setting up libcufft-dev-11-7 (10.7.2.91-1) ...\n",
            "Setting up libcusparse-dev-11-7 (11.7.4.91-1) ...\n",
            "Setting up cuda-libraries-11-7 (11.7.1-1) ...\n",
            "Setting up cuda-nvcc-11-7 (11.7.99-1) ...\n",
            "Setting up libnpp-dev-11-7 (11.7.4.75-1) ...\n",
            "Setting up cuda-runtime-11-7 (11.7.1-1) ...\n",
            "Setting up cuda-demo-suite-11-7 (11.7.91-1) ...\n",
            "Setting up cuda-cupti-11-7 (11.7.101-1) ...\n",
            "Setting up cuda-libraries-dev-11-7 (11.7.1-1) ...\n",
            "Setting up cuda-compiler-11-7 (11.7.1-1) ...\n",
            "Setting up cuda-cupti-dev-11-7 (11.7.101-1) ...\n",
            "Setting up cuda-visual-tools-11-7 (11.7.1-1) ...\n",
            "Setting up cuda-command-line-tools-11-7 (11.7.1-1) ...\n",
            "Setting up cuda-tools-11-7 (11.7.1-1) ...\n",
            "Setting up cuda-toolkit-11-7 (11.7.1-1) ...\n",
            "Setting alternatives\n",
            "Setting up cuda-11-7 (11.7.1-1) ...\n",
            "Setting up cuda (11.7.1-1) ...\n",
            "Processing triggers for libc-bin (2.27-3ubuntu1.5) ...\n"
          ]
        }
      ]
    },
    {
      "metadata": {
        "id": "AKVsaAAsG6CC",
        "colab": {
          "base_uri": "https://localhost:8080/",
          "height": 119
        },
        "outputId": "1192c2d3-b2b4-4515-9108-fd4c3312a3b5"
      },
      "cell_type": "code",
      "source": [
        "!ls"
      ],
      "execution_count": null,
      "outputs": [
        {
          "output_type": "stream",
          "text": [
            "CUDA-GPU-Contrast-Enhancement\r\n",
            "cuda-repo-ubuntu1710-9-2-local_9.2.88-1_amd64\r\n",
            "cuda-repo-ubuntu1710-9-2-local_9.2.88-1_amd64.1\r\n",
            "cuda-repo-ubuntu1710-9-2-local-cublas-update-1_1.0-1_amd64\r\n",
            "cuda-repo-ubuntu1710-9-2-local-cublas-update-1_1.0-1_amd64.1\r\n",
            "datalab\r\n"
          ],
          "name": "stdout"
        }
      ]
    },
    {
      "metadata": {
        "id": "yQoXUG9dE-OU"
      },
      "cell_type": "markdown",
      "source": [
        "# Install CUDA Toolkit"
      ]
    },
    {
      "metadata": {
        "id": "nsyMK9fxFHcO",
        "colab": {
          "base_uri": "https://localhost:8080/",
          "height": 802
        },
        "outputId": "8237671a-c326-4a29-a738-b0517e51dc76"
      },
      "cell_type": "code",
      "source": [
        "!apt-get install nvidia-cuda-toolkit"
      ],
      "execution_count": null,
      "outputs": [
        {
          "output_type": "stream",
          "text": [
            "Reading package lists... Done\n",
            "Building dependency tree       \n",
            "Reading state information... Done\n",
            "The following additional packages will be installed:\n",
            "  libcuinj64-8.0 nvidia-cuda-dev nvidia-profiler nvidia-visual-profiler\n",
            "Suggested packages:\n",
            "  libcupti-dev nvidia-driver\n",
            "Recommended packages:\n",
            "  libnvcuvid1\n",
            "The following NEW packages will be installed:\n",
            "  libcuinj64-8.0 nvidia-cuda-dev nvidia-cuda-toolkit nvidia-profiler\n",
            "  nvidia-visual-profiler\n",
            "0 upgraded, 5 newly installed, 0 to remove and 4 not upgraded.\n",
            "Need to get 383 MB of archives.\n",
            "After this operation, 806 MB of additional disk space will be used.\n",
            "Get:1 http://archive.ubuntu.com/ubuntu artful/multiverse amd64 libcuinj64-8.0 amd64 8.0.61-1 [1,758 kB]\n",
            "Get:2 http://archive.ubuntu.com/ubuntu artful/multiverse amd64 nvidia-cuda-dev amd64 8.0.61-1 [243 MB]\n",
            "Get:3 http://archive.ubuntu.com/ubuntu artful/multiverse amd64 nvidia-profiler amd64 8.0.61-1 [2,624 kB]\n",
            "Get:4 http://archive.ubuntu.com/ubuntu artful/multiverse amd64 nvidia-cuda-toolkit amd64 8.0.61-1 [22.4 MB]\n",
            "Get:5 http://archive.ubuntu.com/ubuntu artful/multiverse amd64 nvidia-visual-profiler amd64 8.0.61-1 [113 MB]\n",
            "Fetched 383 MB in 15s (25.1 MB/s)\n",
            "Selecting previously unselected package libcuinj64-8.0:amd64.\n",
            "(Reading database ... 93714 files and directories currently installed.)\n",
            "Preparing to unpack .../libcuinj64-8.0_8.0.61-1_amd64.deb ...\n",
            "Unpacking libcuinj64-8.0:amd64 (8.0.61-1) ...\n",
            "Selecting previously unselected package nvidia-cuda-dev.\n",
            "Preparing to unpack .../nvidia-cuda-dev_8.0.61-1_amd64.deb ...\n",
            "Unpacking nvidia-cuda-dev (8.0.61-1) ...\n",
            "Selecting previously unselected package nvidia-profiler.\n",
            "Preparing to unpack .../nvidia-profiler_8.0.61-1_amd64.deb ...\n",
            "Unpacking nvidia-profiler (8.0.61-1) ...\n",
            "Selecting previously unselected package nvidia-cuda-toolkit.\n",
            "Preparing to unpack .../nvidia-cuda-toolkit_8.0.61-1_amd64.deb ...\n",
            "Unpacking nvidia-cuda-toolkit (8.0.61-1) ...\n",
            "Selecting previously unselected package nvidia-visual-profiler.\n",
            "Preparing to unpack .../nvidia-visual-profiler_8.0.61-1_amd64.deb ...\n",
            "Unpacking nvidia-visual-profiler (8.0.61-1) ...\n",
            "Processing triggers for libc-bin (2.26-0ubuntu2.1) ...\n",
            "Setting up libcuinj64-8.0:amd64 (8.0.61-1) ...\n",
            "Processing triggers for man-db (2.7.6.1-2) ...\n",
            "Setting up nvidia-profiler (8.0.61-1) ...\n",
            "Setting up nvidia-visual-profiler (8.0.61-1) ...\n",
            "Setting up nvidia-cuda-dev (8.0.61-1) ...\n",
            "Setting up nvidia-cuda-toolkit (8.0.61-1) ...\n",
            "Processing triggers for libc-bin (2.26-0ubuntu2.1) ...\n"
          ],
          "name": "stdout"
        }
      ]
    },
    {
      "cell_type": "code",
      "source": [
        "!cmake --version "
      ],
      "metadata": {
        "colab": {
          "base_uri": "https://localhost:8080/"
        },
        "id": "4vCkuZAaqeJA",
        "outputId": "07542811-6b2a-4753-a9e1-94f495c6e319"
      },
      "execution_count": null,
      "outputs": [
        {
          "output_type": "stream",
          "name": "stdout",
          "text": [
            "cmake version 3.22.6\n",
            "\n",
            "CMake suite maintained and supported by Kitware (kitware.com/cmake).\n"
          ]
        }
      ]
    },
    {
      "metadata": {
        "id": "vWgJZxS5JMOG"
      },
      "cell_type": "markdown",
      "source": [
        "# Colab have install cmake , may not re-install Cmake\n",
        "\n",
        "\n",
        "\n",
        "\n",
        "*  CMake is an open-source, cross-platform family of tools \n",
        "*  designed to build, test and package software.\n",
        "*  Used to control the software compilation process.\n",
        "*  by using simple platform and compiler independent configuration files, \n",
        "*  generate native makefiles and workspaces that can be used in the compiler environment of your choice.\n",
        "\n",
        "\n",
        "\n",
        "\n"
      ]
    },
    {
      "metadata": {
        "id": "gbrA1dzfKvzg",
        "colab": {
          "base_uri": "https://localhost:8080/",
          "height": 102
        },
        "outputId": "6e4b1b4b-f96e-4dd6-ddc0-76bc120f4d9d"
      },
      "cell_type": "code",
      "source": [
        "!apt-get install cmake"
      ],
      "execution_count": null,
      "outputs": [
        {
          "output_type": "stream",
          "text": [
            "Reading package lists... Done\n",
            "Building dependency tree       \n",
            "Reading state information... Done\n",
            "cmake is already the newest version (3.9.1-1).\n",
            "0 upgraded, 0 newly installed, 0 to remove and 4 not upgraded.\n"
          ],
          "name": "stdout"
        }
      ]
    },
    {
      "metadata": {
        "id": "TagN1KWwLPrI"
      },
      "cell_type": "markdown",
      "source": [
        "# Upload the Repo"
      ]
    },
    {
      "metadata": {
        "id": "YnLx3pVtLTca",
        "colab": {
          "base_uri": "https://localhost:8080/"
        },
        "outputId": "a0440c08-c5e4-4539-dd2e-80f40aad01bf"
      },
      "cell_type": "code",
      "source": [
        "!git clone https://github.com/chiyanglin-AStar/Cuda_Colab_study.git"
      ],
      "execution_count": null,
      "outputs": [
        {
          "output_type": "stream",
          "name": "stdout",
          "text": [
            "Cloning into 'Cuda_Colab_study'...\n",
            "remote: Enumerating objects: 24, done.\u001b[K\n",
            "remote: Counting objects:   4% (1/24)\u001b[K\rremote: Counting objects:   8% (2/24)\u001b[K\rremote: Counting objects:  12% (3/24)\u001b[K\rremote: Counting objects:  16% (4/24)\u001b[K\rremote: Counting objects:  20% (5/24)\u001b[K\rremote: Counting objects:  25% (6/24)\u001b[K\rremote: Counting objects:  29% (7/24)\u001b[K\rremote: Counting objects:  33% (8/24)\u001b[K\rremote: Counting objects:  37% (9/24)\u001b[K\rremote: Counting objects:  41% (10/24)\u001b[K\rremote: Counting objects:  45% (11/24)\u001b[K\rremote: Counting objects:  50% (12/24)\u001b[K\rremote: Counting objects:  54% (13/24)\u001b[K\rremote: Counting objects:  58% (14/24)\u001b[K\rremote: Counting objects:  62% (15/24)\u001b[K\rremote: Counting objects:  66% (16/24)\u001b[K\rremote: Counting objects:  70% (17/24)\u001b[K\rremote: Counting objects:  75% (18/24)\u001b[K\rremote: Counting objects:  79% (19/24)\u001b[K\rremote: Counting objects:  83% (20/24)\u001b[K\rremote: Counting objects:  87% (21/24)\u001b[K\rremote: Counting objects:  91% (22/24)\u001b[K\rremote: Counting objects:  95% (23/24)\u001b[K\rremote: Counting objects: 100% (24/24)\u001b[K\rremote: Counting objects: 100% (24/24), done.\u001b[K\n",
            "remote: Compressing objects:   4% (1/22)\u001b[K\rremote: Compressing objects:   9% (2/22)\u001b[K\rremote: Compressing objects:  13% (3/22)\u001b[K\rremote: Compressing objects:  18% (4/22)\u001b[K\rremote: Compressing objects:  22% (5/22)\u001b[K\rremote: Compressing objects:  27% (6/22)\u001b[K\rremote: Compressing objects:  31% (7/22)\u001b[K\rremote: Compressing objects:  36% (8/22)\u001b[K\rremote: Compressing objects:  40% (9/22)\u001b[K\rremote: Compressing objects:  45% (10/22)\u001b[K\rremote: Compressing objects:  50% (11/22)\u001b[K\rremote: Compressing objects:  54% (12/22)\u001b[K\rremote: Compressing objects:  59% (13/22)\u001b[K\rremote: Compressing objects:  63% (14/22)\u001b[K\rremote: Compressing objects:  68% (15/22)\u001b[K\rremote: Compressing objects:  72% (16/22)\u001b[K\rremote: Compressing objects:  77% (17/22)\u001b[K\rremote: Compressing objects:  81% (18/22)\u001b[K\rremote: Compressing objects:  86% (19/22)\u001b[K\rremote: Compressing objects:  90% (20/22)\u001b[K\rremote: Compressing objects:  95% (21/22)\u001b[K\rremote: Compressing objects: 100% (22/22)\u001b[K\rremote: Compressing objects: 100% (22/22), done.\u001b[K\n",
            "remote: Total 24 (delta 9), reused 11 (delta 2), pack-reused 0\u001b[K\n",
            "Unpacking objects: 100% (24/24), done.\n"
          ]
        }
      ]
    },
    {
      "metadata": {
        "id": "TmmtqCzVMECe",
        "colab": {
          "base_uri": "https://localhost:8080/"
        },
        "outputId": "b8f96ab7-215c-46bd-ab51-f3904c77f21c"
      },
      "cell_type": "code",
      "source": [
        "!ls"
      ],
      "execution_count": null,
      "outputs": [
        {
          "output_type": "stream",
          "name": "stdout",
          "text": [
            "Cuda_Colab_study  CUDA-GPU-Contrast-Enhancement  sample_data\n"
          ]
        }
      ]
    },
    {
      "metadata": {
        "id": "ljBaItYiMHaK",
        "colab": {
          "base_uri": "https://localhost:8080/"
        },
        "outputId": "d8bee96d-6020-41dd-9291-dec5880f4c85"
      },
      "cell_type": "code",
      "source": [
        "%cd Cuda_Colab_study"
      ],
      "execution_count": null,
      "outputs": [
        {
          "output_type": "stream",
          "name": "stdout",
          "text": [
            "/content/Cuda_Colab_study\n"
          ]
        }
      ]
    },
    {
      "metadata": {
        "id": "TgffI7r0Nn-9",
        "colab": {
          "base_uri": "https://localhost:8080/"
        },
        "outputId": "eb32546e-761e-48fa-da6a-93d80bc4f6f7"
      },
      "cell_type": "code",
      "source": [
        "!mkdir build\n",
        "%cd build"
      ],
      "execution_count": null,
      "outputs": [
        {
          "output_type": "stream",
          "name": "stdout",
          "text": [
            "/content/Cuda_Colab_study/build\n"
          ]
        }
      ]
    },
    {
      "cell_type": "code",
      "source": [
        "!ls /usr/local"
      ],
      "metadata": {
        "colab": {
          "base_uri": "https://localhost:8080/"
        },
        "id": "tFz3Gw2mrWvA",
        "outputId": "b0accce4-69c5-4930-8f5d-6bd55c26d22c"
      },
      "execution_count": null,
      "outputs": [
        {
          "output_type": "stream",
          "name": "stdout",
          "text": [
            "bin\t   cuda-10.1  cuda-11.1  games\t\t     lib\tsbin   xgboost\n",
            "cuda\t   cuda-11    cuda-11.7  _gcs_config_ops.so  licensing\tshare\n",
            "cuda-10.0  cuda-11.0  etc\t include\t     man\tsrc\n"
          ]
        }
      ]
    },
    {
      "metadata": {
        "id": "SlZ20wyAOQTe",
        "colab": {
          "base_uri": "https://localhost:8080/"
        },
        "outputId": "1ae83a93-a7aa-4eff-fb92-8e67a7fef956"
      },
      "cell_type": "code",
      "source": [
        "!ls /usr/local/cuda-11.1/samples/common/inc"
      ],
      "execution_count": null,
      "outputs": [
        {
          "output_type": "stream",
          "name": "stdout",
          "text": [
            "dynlink_d3d10.h       helper_math.h\t     nvShaderUtils.h\n",
            "dynlink_d3d11.h       helper_multiprocess.h  nvVector.h\n",
            "exception.h\t      helper_nvJPEG.hxx      paramgl.h\n",
            "GL\t\t      helper_string.h\t     param.h\n",
            "helper_cuda_drvapi.h  helper_timer.h\t     rendercheck_d3d10.h\n",
            "helper_cuda.h\t      multithreading.h\t     rendercheck_d3d11.h\n",
            "helper_cusolver.h     nvMath.h\t\t     rendercheck_d3d9.h\n",
            "helper_functions.h    nvMatrix.h\t     rendercheck_gles.h\n",
            "helper_gl.h\t      nvQuaternion.h\t     rendercheck_gl.h\n",
            "helper_image.h\t      nvrtc_helper.h\n"
          ]
        }
      ]
    },
    {
      "metadata": {
        "id": "k52_js71PiZI"
      },
      "cell_type": "code",
      "source": [
        "! export CUDA_TOOLKIT_ROOT_DIR=/usr/local/cuda-11.1/"
      ],
      "execution_count": null,
      "outputs": []
    },
    {
      "metadata": {
        "id": "KXML8zDcRZnN"
      },
      "cell_type": "markdown",
      "source": [
        "# Cmake"
      ]
    },
    {
      "metadata": {
        "id": "Y22IqoD-RaID",
        "colab": {
          "base_uri": "https://localhost:8080/"
        },
        "outputId": "dec8b421-7173-4ab1-cce4-825cfc75bc42"
      },
      "cell_type": "code",
      "source": [
        "!cmake -D CUDA_TOOLKIT_ROOT_DIR=/usr/local/cuda-11.1/ .."
      ],
      "execution_count": null,
      "outputs": [
        {
          "output_type": "stream",
          "name": "stdout",
          "text": [
            "\u001b[0mCMake Deprecation Warning at CMakeLists.txt:1 (cmake_minimum_required):\n",
            "  Compatibility with CMake < 2.8.12 will be removed from a future version of\n",
            "  CMake.\n",
            "\n",
            "  Update the VERSION argument <min> value or use a ...<max> suffix to tell\n",
            "  CMake that the project does not need compatibility with older versions.\n",
            "\n",
            "\u001b[0m\n",
            "-- The C compiler identification is GNU 7.5.0\n",
            "-- The CXX compiler identification is GNU 7.5.0\n",
            "-- Detecting C compiler ABI info\n",
            "-- Detecting C compiler ABI info - done\n",
            "-- Check for working C compiler: /usr/bin/cc - skipped\n",
            "-- Detecting C compile features\n",
            "-- Detecting C compile features - done\n",
            "-- Detecting CXX compiler ABI info\n",
            "-- Detecting CXX compiler ABI info - done\n",
            "-- Check for working CXX compiler: /usr/bin/c++ - skipped\n",
            "-- Detecting CXX compile features\n",
            "-- Detecting CXX compile features - done\n",
            "-- Looking for pthread.h\n",
            "-- Looking for pthread.h - found\n",
            "-- Performing Test CMAKE_HAVE_LIBC_PTHREAD\n",
            "-- Performing Test CMAKE_HAVE_LIBC_PTHREAD - Failed\n",
            "-- Looking for pthread_create in pthreads\n",
            "-- Looking for pthread_create in pthreads - not found\n",
            "-- Looking for pthread_create in pthread\n",
            "-- Looking for pthread_create in pthread - found\n",
            "-- Found Threads: TRUE  \n",
            "-- Found CUDA: /usr/local/cuda-11.1/ (found version \"11.1\") \n",
            "-- /usr/local/cuda-11.1/include\n",
            "-- /usr/local/cuda-11.1/\n",
            "-- Configuring done\n",
            "-- Generating done\n",
            "-- Build files have been written to: /content/Cuda_Colab_study/build\n"
          ]
        }
      ]
    },
    {
      "metadata": {
        "id": "shiSFbtzS-U4"
      },
      "cell_type": "markdown",
      "source": [
        "# Building NVCC (Make)"
      ]
    },
    {
      "metadata": {
        "id": "EMslCXqnS4DX",
        "colab": {
          "base_uri": "https://localhost:8080/"
        },
        "outputId": "cb0599f4-6d8c-4b34-d75e-a22ab16d18d7"
      },
      "cell_type": "code",
      "source": [
        "!make"
      ],
      "execution_count": null,
      "outputs": [
        {
          "output_type": "stream",
          "name": "stdout",
          "text": [
            "\u001b[0mCMake Deprecation Warning at CMakeLists.txt:1 (cmake_minimum_required):\n",
            "  Compatibility with CMake < 2.8.12 will be removed from a future version of\n",
            "  CMake.\n",
            "\n",
            "  Update the VERSION argument <min> value or use a ...<max> suffix to tell\n",
            "  CMake that the project does not need compatibility with older versions.\n",
            "\n",
            "\u001b[0m\n",
            "-- /usr/local/cuda-11.1/include\n",
            "-- /usr/local/cuda-11.1/\n",
            "-- Configuring done\n",
            "-- Generating done\n",
            "-- Build files have been written to: /content/Cuda_Colab_study/build\n",
            "[ 16%] \u001b[34m\u001b[1mBuilding NVCC (Device) object CMakeFiles/5kk70-assignment-gpu.dir/5kk70-assignment-gpu_generated_gpu-histogram-equalization.cu.o\u001b[0m\n",
            "nvcc warning : The 'compute_35', 'compute_37', 'compute_50', 'sm_35', 'sm_37' and 'sm_50' architectures are deprecated, and may be removed in a future release (Use -Wno-deprecated-gpu-targets to suppress warning).\n",
            "nvcc warning : The 'compute_35', 'compute_37', 'compute_50', 'sm_35', 'sm_37' and 'sm_50' architectures are deprecated, and may be removed in a future release (Use -Wno-deprecated-gpu-targets to suppress warning).\n",
            "[ 33%] \u001b[34m\u001b[1mBuilding NVCC (Device) object CMakeFiles/5kk70-assignment-gpu.dir/5kk70-assignment-gpu_generated_gpu-contrast-enhancement.cu.o\u001b[0m\n",
            "nvcc warning : The 'compute_35', 'compute_37', 'compute_50', 'sm_35', 'sm_37' and 'sm_50' architectures are deprecated, and may be removed in a future release (Use -Wno-deprecated-gpu-targets to suppress warning).\n",
            "nvcc warning : The 'compute_35', 'compute_37', 'compute_50', 'sm_35', 'sm_37' and 'sm_50' architectures are deprecated, and may be removed in a future release (Use -Wno-deprecated-gpu-targets to suppress warning).\n",
            "[ 50%] \u001b[32mBuilding CXX object CMakeFiles/5kk70-assignment-gpu.dir/main.cpp.o\u001b[0m\n",
            "[ 66%] \u001b[32mBuilding CXX object CMakeFiles/5kk70-assignment-gpu.dir/histogram-equalization.cpp.o\u001b[0m\n",
            "[ 83%] \u001b[32mBuilding CXX object CMakeFiles/5kk70-assignment-gpu.dir/contrast-enhancement.cpp.o\u001b[0m\n",
            "[100%] \u001b[32m\u001b[1mLinking CXX executable 5kk70-assignment-gpu\u001b[0m\n",
            "[100%] Built target 5kk70-assignment-gpu\n"
          ]
        }
      ]
    },
    {
      "metadata": {
        "id": "6oQuELCLTI6g",
        "colab": {
          "base_uri": "https://localhost:8080/"
        },
        "outputId": "70afe550-9f22-4e1b-8514-c3624c382386"
      },
      "cell_type": "code",
      "source": [
        "!ls"
      ],
      "execution_count": null,
      "outputs": [
        {
          "output_type": "stream",
          "name": "stdout",
          "text": [
            "5kk70-assignment-gpu  CMakeCache.txt  CMakeFiles  cmake_install.cmake  Makefile\n"
          ]
        }
      ]
    },
    {
      "metadata": {
        "id": "iNHQEwEjT_Bo"
      },
      "cell_type": "markdown",
      "source": [
        "# Upload images to test"
      ]
    },
    {
      "metadata": {
        "id": "GN1EVFokTL3S",
        "colab": {
          "base_uri": "https://localhost:8080/",
          "height": 86
        },
        "outputId": "d7393c94-7bb5-4402-c392-557332f557e8"
      },
      "cell_type": "code",
      "source": [
        "from google.colab import files\n",
        "\n",
        "uploaded = files.upload()"
      ],
      "execution_count": null,
      "outputs": [
        {
          "output_type": "display_data",
          "data": {
            "text/plain": [
              "<IPython.core.display.HTML object>"
            ],
            "text/html": [
              "\n",
              "     <input type=\"file\" id=\"files-261aa82c-bbd5-49ef-85bc-4febecaf9e94\" name=\"files[]\" multiple disabled\n",
              "        style=\"border:none\" />\n",
              "     <output id=\"result-261aa82c-bbd5-49ef-85bc-4febecaf9e94\">\n",
              "      Upload widget is only available when the cell has been executed in the\n",
              "      current browser session. Please rerun this cell to enable.\n",
              "      </output>\n",
              "      <script>// Copyright 2017 Google LLC\n",
              "//\n",
              "// Licensed under the Apache License, Version 2.0 (the \"License\");\n",
              "// you may not use this file except in compliance with the License.\n",
              "// You may obtain a copy of the License at\n",
              "//\n",
              "//      http://www.apache.org/licenses/LICENSE-2.0\n",
              "//\n",
              "// Unless required by applicable law or agreed to in writing, software\n",
              "// distributed under the License is distributed on an \"AS IS\" BASIS,\n",
              "// WITHOUT WARRANTIES OR CONDITIONS OF ANY KIND, either express or implied.\n",
              "// See the License for the specific language governing permissions and\n",
              "// limitations under the License.\n",
              "\n",
              "/**\n",
              " * @fileoverview Helpers for google.colab Python module.\n",
              " */\n",
              "(function(scope) {\n",
              "function span(text, styleAttributes = {}) {\n",
              "  const element = document.createElement('span');\n",
              "  element.textContent = text;\n",
              "  for (const key of Object.keys(styleAttributes)) {\n",
              "    element.style[key] = styleAttributes[key];\n",
              "  }\n",
              "  return element;\n",
              "}\n",
              "\n",
              "// Max number of bytes which will be uploaded at a time.\n",
              "const MAX_PAYLOAD_SIZE = 100 * 1024;\n",
              "\n",
              "function _uploadFiles(inputId, outputId) {\n",
              "  const steps = uploadFilesStep(inputId, outputId);\n",
              "  const outputElement = document.getElementById(outputId);\n",
              "  // Cache steps on the outputElement to make it available for the next call\n",
              "  // to uploadFilesContinue from Python.\n",
              "  outputElement.steps = steps;\n",
              "\n",
              "  return _uploadFilesContinue(outputId);\n",
              "}\n",
              "\n",
              "// This is roughly an async generator (not supported in the browser yet),\n",
              "// where there are multiple asynchronous steps and the Python side is going\n",
              "// to poll for completion of each step.\n",
              "// This uses a Promise to block the python side on completion of each step,\n",
              "// then passes the result of the previous step as the input to the next step.\n",
              "function _uploadFilesContinue(outputId) {\n",
              "  const outputElement = document.getElementById(outputId);\n",
              "  const steps = outputElement.steps;\n",
              "\n",
              "  const next = steps.next(outputElement.lastPromiseValue);\n",
              "  return Promise.resolve(next.value.promise).then((value) => {\n",
              "    // Cache the last promise value to make it available to the next\n",
              "    // step of the generator.\n",
              "    outputElement.lastPromiseValue = value;\n",
              "    return next.value.response;\n",
              "  });\n",
              "}\n",
              "\n",
              "/**\n",
              " * Generator function which is called between each async step of the upload\n",
              " * process.\n",
              " * @param {string} inputId Element ID of the input file picker element.\n",
              " * @param {string} outputId Element ID of the output display.\n",
              " * @return {!Iterable<!Object>} Iterable of next steps.\n",
              " */\n",
              "function* uploadFilesStep(inputId, outputId) {\n",
              "  const inputElement = document.getElementById(inputId);\n",
              "  inputElement.disabled = false;\n",
              "\n",
              "  const outputElement = document.getElementById(outputId);\n",
              "  outputElement.innerHTML = '';\n",
              "\n",
              "  const pickedPromise = new Promise((resolve) => {\n",
              "    inputElement.addEventListener('change', (e) => {\n",
              "      resolve(e.target.files);\n",
              "    });\n",
              "  });\n",
              "\n",
              "  const cancel = document.createElement('button');\n",
              "  inputElement.parentElement.appendChild(cancel);\n",
              "  cancel.textContent = 'Cancel upload';\n",
              "  const cancelPromise = new Promise((resolve) => {\n",
              "    cancel.onclick = () => {\n",
              "      resolve(null);\n",
              "    };\n",
              "  });\n",
              "\n",
              "  // Wait for the user to pick the files.\n",
              "  const files = yield {\n",
              "    promise: Promise.race([pickedPromise, cancelPromise]),\n",
              "    response: {\n",
              "      action: 'starting',\n",
              "    }\n",
              "  };\n",
              "\n",
              "  cancel.remove();\n",
              "\n",
              "  // Disable the input element since further picks are not allowed.\n",
              "  inputElement.disabled = true;\n",
              "\n",
              "  if (!files) {\n",
              "    return {\n",
              "      response: {\n",
              "        action: 'complete',\n",
              "      }\n",
              "    };\n",
              "  }\n",
              "\n",
              "  for (const file of files) {\n",
              "    const li = document.createElement('li');\n",
              "    li.append(span(file.name, {fontWeight: 'bold'}));\n",
              "    li.append(span(\n",
              "        `(${file.type || 'n/a'}) - ${file.size} bytes, ` +\n",
              "        `last modified: ${\n",
              "            file.lastModifiedDate ? file.lastModifiedDate.toLocaleDateString() :\n",
              "                                    'n/a'} - `));\n",
              "    const percent = span('0% done');\n",
              "    li.appendChild(percent);\n",
              "\n",
              "    outputElement.appendChild(li);\n",
              "\n",
              "    const fileDataPromise = new Promise((resolve) => {\n",
              "      const reader = new FileReader();\n",
              "      reader.onload = (e) => {\n",
              "        resolve(e.target.result);\n",
              "      };\n",
              "      reader.readAsArrayBuffer(file);\n",
              "    });\n",
              "    // Wait for the data to be ready.\n",
              "    let fileData = yield {\n",
              "      promise: fileDataPromise,\n",
              "      response: {\n",
              "        action: 'continue',\n",
              "      }\n",
              "    };\n",
              "\n",
              "    // Use a chunked sending to avoid message size limits. See b/62115660.\n",
              "    let position = 0;\n",
              "    do {\n",
              "      const length = Math.min(fileData.byteLength - position, MAX_PAYLOAD_SIZE);\n",
              "      const chunk = new Uint8Array(fileData, position, length);\n",
              "      position += length;\n",
              "\n",
              "      const base64 = btoa(String.fromCharCode.apply(null, chunk));\n",
              "      yield {\n",
              "        response: {\n",
              "          action: 'append',\n",
              "          file: file.name,\n",
              "          data: base64,\n",
              "        },\n",
              "      };\n",
              "\n",
              "      let percentDone = fileData.byteLength === 0 ?\n",
              "          100 :\n",
              "          Math.round((position / fileData.byteLength) * 100);\n",
              "      percent.textContent = `${percentDone}% done`;\n",
              "\n",
              "    } while (position < fileData.byteLength);\n",
              "  }\n",
              "\n",
              "  // All done.\n",
              "  yield {\n",
              "    response: {\n",
              "      action: 'complete',\n",
              "    }\n",
              "  };\n",
              "}\n",
              "\n",
              "scope.google = scope.google || {};\n",
              "scope.google.colab = scope.google.colab || {};\n",
              "scope.google.colab._files = {\n",
              "  _uploadFiles,\n",
              "  _uploadFilesContinue,\n",
              "};\n",
              "})(self);\n",
              "</script> "
            ]
          },
          "metadata": {}
        },
        {
          "output_type": "stream",
          "name": "stdout",
          "text": [
            "Saving CodingCoffee_0731_2D(0)_0000.png to CodingCoffee_0731_2D(0)_0000.png\n"
          ]
        }
      ]
    },
    {
      "metadata": {
        "id": "w8ZzPRewalJp",
        "colab": {
          "base_uri": "https://localhost:8080/"
        },
        "outputId": "c452dd62-b8cb-4827-c603-000a32824a60"
      },
      "cell_type": "code",
      "source": [
        "!ls"
      ],
      "execution_count": null,
      "outputs": [
        {
          "output_type": "stream",
          "name": "stdout",
          "text": [
            "5kk70-assignment-gpu  CMakeFiles\t   Makefile\n",
            "CMakeCache.txt\t      cmake_install.cmake  test.png\n"
          ]
        }
      ]
    },
    {
      "cell_type": "code",
      "source": [
        "!mv CodingCoffee_0731_2D\\(0\\)_0000.png test.png"
      ],
      "metadata": {
        "id": "iEnpzRWMu49y"
      },
      "execution_count": null,
      "outputs": []
    },
    {
      "metadata": {
        "id": "fl4fbkyUe8K2"
      },
      "cell_type": "markdown",
      "source": [
        "# Run the Project on GPU"
      ]
    },
    {
      "metadata": {
        "id": "RPd_Kp5uaqiI",
        "colab": {
          "base_uri": "https://localhost:8080/"
        },
        "outputId": "9936be76-0a97-4d66-96bf-03d9c82c70f0"
      },
      "cell_type": "code",
      "source": [
        "!./5kk70-assignment-gpu test.png"
      ],
      "execution_count": null,
      "outputs": [
        {
          "output_type": "stream",
          "name": "stdout",
          "text": [
            "====================================================\n",
            " Running contrast enhancement for gray-scale images\n",
            "====================================================\n",
            "Input file not found!\n"
          ]
        }
      ]
    },
    {
      "metadata": {
        "id": "RRzc9NjSbW8S",
        "colab": {
          "base_uri": "https://localhost:8080/",
          "height": 85
        },
        "outputId": "10681f69-d518-4702-a94f-9cac8e448d2f"
      },
      "cell_type": "code",
      "source": [
        "!ls"
      ],
      "execution_count": null,
      "outputs": [
        {
          "output_type": "stream",
          "text": [
            "5kk70-assignment-gpu  gpu_out_hsl.ppm  in-color.jpg  n.pgm\t  out_yuv.ppm\r\n",
            "CMakeCache.txt\t      gpu_out.pgm      in.pgm\t     out_hsl.ppm\r\n",
            "CMakeFiles\t      gpu_out_rgb.ppm  in.ppm\t     out.pgm\r\n",
            "cmake_install.cmake   gpu_out_yuv.ppm  Makefile      out_rgb.ppm\r\n"
          ],
          "name": "stdout"
        }
      ]
    },
    {
      "metadata": {
        "id": "CaiZZWoTf9he"
      },
      "cell_type": "markdown",
      "source": [
        "# Output Images"
      ]
    },
    {
      "metadata": {
        "id": "agvEyogxgBbM",
        "colab": {
          "base_uri": "https://localhost:8080/",
          "height": 288
        },
        "outputId": "ab2b810f-4093-48fe-8300-25d0e48b8cc5"
      },
      "cell_type": "code",
      "source": [
        "files.download('out_hsl.ppm')"
      ],
      "execution_count": null,
      "outputs": [
        {
          "output_type": "error",
          "ename": "FileNotFoundError",
          "evalue": "ignored",
          "traceback": [
            "\u001b[0;31m---------------------------------------------------------------------------\u001b[0m",
            "\u001b[0;31mFileNotFoundError\u001b[0m                         Traceback (most recent call last)",
            "\u001b[0;32m<ipython-input-32-79861dca8d7f>\u001b[0m in \u001b[0;36m<module>\u001b[0;34m\u001b[0m\n\u001b[0;32m----> 1\u001b[0;31m \u001b[0mfiles\u001b[0m\u001b[0;34m.\u001b[0m\u001b[0mdownload\u001b[0m\u001b[0;34m(\u001b[0m\u001b[0;34m'out_hsl.ppm'\u001b[0m\u001b[0;34m)\u001b[0m\u001b[0;34m\u001b[0m\u001b[0;34m\u001b[0m\u001b[0m\n\u001b[0m",
            "\u001b[0;32m/usr/local/lib/python3.7/dist-packages/google/colab/files.py\u001b[0m in \u001b[0;36mdownload\u001b[0;34m(filename)\u001b[0m\n\u001b[1;32m    182\u001b[0m   \u001b[0;32mif\u001b[0m \u001b[0;32mnot\u001b[0m \u001b[0m_os\u001b[0m\u001b[0;34m.\u001b[0m\u001b[0mpath\u001b[0m\u001b[0;34m.\u001b[0m\u001b[0mexists\u001b[0m\u001b[0;34m(\u001b[0m\u001b[0mfilename\u001b[0m\u001b[0;34m)\u001b[0m\u001b[0;34m:\u001b[0m\u001b[0;34m\u001b[0m\u001b[0;34m\u001b[0m\u001b[0m\n\u001b[1;32m    183\u001b[0m     \u001b[0mmsg\u001b[0m \u001b[0;34m=\u001b[0m \u001b[0;34m'Cannot find file: {}'\u001b[0m\u001b[0;34m.\u001b[0m\u001b[0mformat\u001b[0m\u001b[0;34m(\u001b[0m\u001b[0mfilename\u001b[0m\u001b[0;34m)\u001b[0m\u001b[0;34m\u001b[0m\u001b[0;34m\u001b[0m\u001b[0m\n\u001b[0;32m--> 184\u001b[0;31m     \u001b[0;32mraise\u001b[0m \u001b[0mFileNotFoundError\u001b[0m\u001b[0;34m(\u001b[0m\u001b[0mmsg\u001b[0m\u001b[0;34m)\u001b[0m  \u001b[0;31m# pylint: disable=undefined-variable\u001b[0m\u001b[0;34m\u001b[0m\u001b[0;34m\u001b[0m\u001b[0m\n\u001b[0m\u001b[1;32m    185\u001b[0m \u001b[0;34m\u001b[0m\u001b[0m\n\u001b[1;32m    186\u001b[0m   \u001b[0mcomm_manager\u001b[0m \u001b[0;34m=\u001b[0m \u001b[0m_IPython\u001b[0m\u001b[0;34m.\u001b[0m\u001b[0mget_ipython\u001b[0m\u001b[0;34m(\u001b[0m\u001b[0;34m)\u001b[0m\u001b[0;34m.\u001b[0m\u001b[0mkernel\u001b[0m\u001b[0;34m.\u001b[0m\u001b[0mcomm_manager\u001b[0m\u001b[0;34m\u001b[0m\u001b[0;34m\u001b[0m\u001b[0m\n",
            "\u001b[0;31mFileNotFoundError\u001b[0m: Cannot find file: out_hsl.ppm"
          ]
        }
      ]
    },
    {
      "metadata": {
        "id": "r86fT0uvnXnB"
      },
      "cell_type": "code",
      "source": [
        "#files.download('out.pgm')"
      ],
      "execution_count": null,
      "outputs": []
    },
    {
      "metadata": {
        "id": "zjqitbNugN8g"
      },
      "cell_type": "code",
      "source": [
        "%matplotlib inline\n",
        "\n",
        "import matplotlib\n",
        "import matplotlib.image as mpimg\n",
        "import matplotlib.pyplot as plt"
      ],
      "execution_count": null,
      "outputs": []
    },
    {
      "metadata": {
        "id": "J2-ssH6KgO78",
        "colab": {
          "base_uri": "https://localhost:8080/",
          "height": 382
        },
        "outputId": "39320191-7d39-42cc-809a-b9c797b59362"
      },
      "cell_type": "code",
      "source": [
        "img_in_gray    =mpimg.imread('in.pgm')\n",
        "img_in_color   =mpimg.imread('in.ppm')\n",
        "img_out        =mpimg.imread('out.pgm')\n",
        "img_out_rgb    =mpimg.imread('out_rgb.ppm')\n",
        "img_in_out_yuv =mpimg.imread('out_yuv.ppm')\n",
        "img_in_out_hsl =mpimg.imread('out_hsl.ppm')\n",
        "\n",
        "print(\" img_in_gray :\")\n",
        "plt.imshow(img_in_gray)\n",
        "plt.show()\n",
        "\n",
        "print(\"img_in_color: \")\n",
        "plt.imshow(img_in_color)\n",
        "plt.show()\n",
        "\n",
        "print(\" img_out:\")\n",
        "plt.imshow(img_out)\n",
        "plt.show()\n",
        "\n",
        "print(\" img_out_rgb:\")\n",
        "plt.imshow(img_out_rgb)\n",
        "plt.show()\n",
        "\n",
        "print(\"img_in_out_yuv: \")\n",
        "plt.imshow(img_in_out_yuv)\n",
        "plt.show()\n",
        "\n",
        "print(\"img_in_out_hsl: \")\n",
        "plt.imshow(img_in_out_hsl)\n",
        "plt.show()\n",
        "\n",
        "print(\"done.\")"
      ],
      "execution_count": null,
      "outputs": [
        {
          "output_type": "error",
          "ename": "FileNotFoundError",
          "evalue": "ignored",
          "traceback": [
            "\u001b[0;31m---------------------------------------------------------------------------\u001b[0m",
            "\u001b[0;31mFileNotFoundError\u001b[0m                         Traceback (most recent call last)",
            "\u001b[0;32m<ipython-input-35-7f32e82944d1>\u001b[0m in \u001b[0;36m<module>\u001b[0;34m\u001b[0m\n\u001b[0;32m----> 1\u001b[0;31m \u001b[0mimg_in_gray\u001b[0m    \u001b[0;34m=\u001b[0m\u001b[0mmpimg\u001b[0m\u001b[0;34m.\u001b[0m\u001b[0mimread\u001b[0m\u001b[0;34m(\u001b[0m\u001b[0;34m'in.pgm'\u001b[0m\u001b[0;34m)\u001b[0m\u001b[0;34m\u001b[0m\u001b[0;34m\u001b[0m\u001b[0m\n\u001b[0m\u001b[1;32m      2\u001b[0m \u001b[0mimg_in_color\u001b[0m   \u001b[0;34m=\u001b[0m\u001b[0mmpimg\u001b[0m\u001b[0;34m.\u001b[0m\u001b[0mimread\u001b[0m\u001b[0;34m(\u001b[0m\u001b[0;34m'in.ppm'\u001b[0m\u001b[0;34m)\u001b[0m\u001b[0;34m\u001b[0m\u001b[0;34m\u001b[0m\u001b[0m\n\u001b[1;32m      3\u001b[0m \u001b[0mimg_out\u001b[0m        \u001b[0;34m=\u001b[0m\u001b[0mmpimg\u001b[0m\u001b[0;34m.\u001b[0m\u001b[0mimread\u001b[0m\u001b[0;34m(\u001b[0m\u001b[0;34m'out.pgm'\u001b[0m\u001b[0;34m)\u001b[0m\u001b[0;34m\u001b[0m\u001b[0;34m\u001b[0m\u001b[0m\n\u001b[1;32m      4\u001b[0m \u001b[0mimg_out_rgb\u001b[0m    \u001b[0;34m=\u001b[0m\u001b[0mmpimg\u001b[0m\u001b[0;34m.\u001b[0m\u001b[0mimread\u001b[0m\u001b[0;34m(\u001b[0m\u001b[0;34m'out_rgb.ppm'\u001b[0m\u001b[0;34m)\u001b[0m\u001b[0;34m\u001b[0m\u001b[0;34m\u001b[0m\u001b[0m\n\u001b[1;32m      5\u001b[0m \u001b[0mimg_in_out_yuv\u001b[0m \u001b[0;34m=\u001b[0m\u001b[0mmpimg\u001b[0m\u001b[0;34m.\u001b[0m\u001b[0mimread\u001b[0m\u001b[0;34m(\u001b[0m\u001b[0;34m'out_yuv.ppm'\u001b[0m\u001b[0;34m)\u001b[0m\u001b[0;34m\u001b[0m\u001b[0;34m\u001b[0m\u001b[0m\n",
            "\u001b[0;32m/usr/local/lib/python3.7/dist-packages/matplotlib/image.py\u001b[0m in \u001b[0;36mimread\u001b[0;34m(fname, format)\u001b[0m\n\u001b[1;32m   1462\u001b[0m             raise ValueError('Only know how to handle PNG; with Pillow '\n\u001b[1;32m   1463\u001b[0m                              'installed, Matplotlib can handle more images')\n\u001b[0;32m-> 1464\u001b[0;31m         \u001b[0;32mwith\u001b[0m \u001b[0mImage\u001b[0m\u001b[0;34m.\u001b[0m\u001b[0mopen\u001b[0m\u001b[0;34m(\u001b[0m\u001b[0mfname\u001b[0m\u001b[0;34m)\u001b[0m \u001b[0;32mas\u001b[0m \u001b[0mimage\u001b[0m\u001b[0;34m:\u001b[0m\u001b[0;34m\u001b[0m\u001b[0;34m\u001b[0m\u001b[0m\n\u001b[0m\u001b[1;32m   1465\u001b[0m             \u001b[0;32mreturn\u001b[0m \u001b[0mpil_to_array\u001b[0m\u001b[0;34m(\u001b[0m\u001b[0mimage\u001b[0m\u001b[0;34m)\u001b[0m\u001b[0;34m\u001b[0m\u001b[0;34m\u001b[0m\u001b[0m\n\u001b[1;32m   1466\u001b[0m     \u001b[0;32mfrom\u001b[0m \u001b[0mmatplotlib\u001b[0m \u001b[0;32mimport\u001b[0m \u001b[0m_png\u001b[0m\u001b[0;34m\u001b[0m\u001b[0;34m\u001b[0m\u001b[0m\n",
            "\u001b[0;32m/usr/local/lib/python3.7/dist-packages/PIL/Image.py\u001b[0m in \u001b[0;36mopen\u001b[0;34m(fp, mode)\u001b[0m\n\u001b[1;32m   2841\u001b[0m \u001b[0;34m\u001b[0m\u001b[0m\n\u001b[1;32m   2842\u001b[0m     \u001b[0;32mif\u001b[0m \u001b[0mfilename\u001b[0m\u001b[0;34m:\u001b[0m\u001b[0;34m\u001b[0m\u001b[0;34m\u001b[0m\u001b[0m\n\u001b[0;32m-> 2843\u001b[0;31m         \u001b[0mfp\u001b[0m \u001b[0;34m=\u001b[0m \u001b[0mbuiltins\u001b[0m\u001b[0;34m.\u001b[0m\u001b[0mopen\u001b[0m\u001b[0;34m(\u001b[0m\u001b[0mfilename\u001b[0m\u001b[0;34m,\u001b[0m \u001b[0;34m\"rb\"\u001b[0m\u001b[0;34m)\u001b[0m\u001b[0;34m\u001b[0m\u001b[0;34m\u001b[0m\u001b[0m\n\u001b[0m\u001b[1;32m   2844\u001b[0m         \u001b[0mexclusive_fp\u001b[0m \u001b[0;34m=\u001b[0m \u001b[0;32mTrue\u001b[0m\u001b[0;34m\u001b[0m\u001b[0;34m\u001b[0m\u001b[0m\n\u001b[1;32m   2845\u001b[0m \u001b[0;34m\u001b[0m\u001b[0m\n",
            "\u001b[0;31mFileNotFoundError\u001b[0m: [Errno 2] No such file or directory: 'in.pgm'"
          ]
        }
      ]
    }
  ]
}